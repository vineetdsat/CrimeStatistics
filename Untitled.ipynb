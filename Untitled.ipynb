{
 "cells": [
  {
   "cell_type": "code",
   "execution_count": null,
   "id": "ea8781e3-73c7-4910-be18-df525d77261b",
   "metadata": {},
   "outputs": [],
   "source": [
    "import pandas as pd"
   ]
  },
  {
   "cell_type": "code",
   "execution_count": null,
   "id": "f1ea3527-d8e0-49e1-80ca-644a77db6690",
   "metadata": {},
   "outputs": [],
   "source": [
    "attemped_murder_data = pd.read_csv('CSV Files/attempted_murder.csv')\n",
    "chain_snatching_data =pd.read_csv('CSV Files/Chain_Snatching.csv')\n",
    "four_wheeler_data = pd.read_csv('CSV Files/four_wheeler_theft.csv')\n",
    "two_wheeler_data = pd.read_csv('CSV Files/two_wheeler_theft.csv')\n",
    "hurt_data = pd.read_csv('CSV Files/Hurt.csv')\n",
    "kidnapping_data = pd.read_csv('CSV Files/kidnapping.csv')\n",
    "robery_data = pd.read_csv('CSV Files/Roberry.csv')\n",
    "sexual_assault_data = pd.read_csv('CSV Files/sexual_assault.csv')\n",
    "murder_data = pd.read_csv('CSV Files/murder.csv')"
   ]
  },
  {
   "cell_type": "code",
   "execution_count": 14,
   "id": "6b9c1fb4-3a7f-475e-a7e9-f2b692fb6327",
   "metadata": {},
   "outputs": [],
   "source": [
    "attemped_murder_data['Hour'].fillna(value=14, inplace = True)"
   ]
  },
  {
   "cell_type": "code",
   "execution_count": 15,
   "id": "a6b0f243-c0f2-49ec-bff8-1bce9ae313bf",
   "metadata": {},
   "outputs": [],
   "source": [
    "attemped_murder_data['Hour'] = attemped_murder_data['Hour'].astype('int64')"
   ]
  },
  {
   "cell_type": "code",
   "execution_count": 16,
   "id": "bb126364-4437-409e-95f7-f7b9c8f1afec",
   "metadata": {},
   "outputs": [
    {
     "name": "stdout",
     "output_type": "stream",
     "text": [
      "<class 'pandas.core.frame.DataFrame'>\n",
      "RangeIndex: 326 entries, 0 to 325\n",
      "Data columns (total 8 columns):\n",
      " #   Column          Non-Null Count  Dtype \n",
      "---  ------          --------------  ----- \n",
      " 0   Police_Station  326 non-null    object\n",
      " 1   Year            326 non-null    int64 \n",
      " 2   Type            326 non-null    object\n",
      " 3   Date            326 non-null    object\n",
      " 4   Month           326 non-null    int64 \n",
      " 5   Day             326 non-null    int64 \n",
      " 6   Time            326 non-null    object\n",
      " 7   Hour            326 non-null    int64 \n",
      "dtypes: int64(4), object(4)\n",
      "memory usage: 20.5+ KB\n"
     ]
    }
   ],
   "source": [
    "attemped_murder_data.info()\n"
   ]
  },
  {
   "cell_type": "code",
   "execution_count": 17,
   "id": "05da2efb-fb51-4ccb-b944-88cd7d530743",
   "metadata": {},
   "outputs": [],
   "source": [
    "two_wheeler_data['Hour'].fillna(value=14, inplace = True)"
   ]
  },
  {
   "cell_type": "code",
   "execution_count": 18,
   "id": "077ba201-032d-4616-9449-63436eac6d6c",
   "metadata": {},
   "outputs": [],
   "source": [
    "two_wheeler_data['Hour'] = two_wheeler_data['Hour'].astype('int64')"
   ]
  },
  {
   "cell_type": "code",
   "execution_count": 19,
   "id": "25d3bcd1-d7db-4b61-a9a3-8284805aa880",
   "metadata": {},
   "outputs": [
    {
     "name": "stdout",
     "output_type": "stream",
     "text": [
      "<class 'pandas.core.frame.DataFrame'>\n",
      "RangeIndex: 3994 entries, 0 to 3993\n",
      "Data columns (total 8 columns):\n",
      " #   Column          Non-Null Count  Dtype \n",
      "---  ------          --------------  ----- \n",
      " 0   Police_Station  3994 non-null   object\n",
      " 1   Year            3994 non-null   int64 \n",
      " 2   Type            3994 non-null   object\n",
      " 3   Date            3986 non-null   object\n",
      " 4   Month           3986 non-null   object\n",
      " 5   Day             3986 non-null   object\n",
      " 6   Time            3448 non-null   object\n",
      " 7   Hour            3994 non-null   int64 \n",
      "dtypes: int64(2), object(6)\n",
      "memory usage: 249.8+ KB\n"
     ]
    }
   ],
   "source": [
    "two_wheeler_data.info()\n"
   ]
  },
  {
   "cell_type": "code",
   "execution_count": 20,
   "id": "402dced4-cc19-4950-a10d-8fa738522823",
   "metadata": {},
   "outputs": [],
   "source": [
    "chain_snatching_data['Hour'].fillna(value=14, inplace = True)"
   ]
  },
  {
   "cell_type": "code",
   "execution_count": 21,
   "id": "4ebc111d-29eb-4f6b-b72f-8b5893b3a912",
   "metadata": {},
   "outputs": [],
   "source": [
    "chain_snatching_data['Hour'] = chain_snatching_data['Hour'].astype('int64')"
   ]
  },
  {
   "cell_type": "code",
   "execution_count": 22,
   "id": "6426b10a-c9c8-458b-a1a2-f004e119dc2c",
   "metadata": {},
   "outputs": [
    {
     "name": "stdout",
     "output_type": "stream",
     "text": [
      "<class 'pandas.core.frame.DataFrame'>\n",
      "RangeIndex: 360 entries, 0 to 359\n",
      "Data columns (total 8 columns):\n",
      " #   Column          Non-Null Count  Dtype \n",
      "---  ------          --------------  ----- \n",
      " 0   Police_Station  360 non-null    object\n",
      " 1   Year            360 non-null    int64 \n",
      " 2   Type            360 non-null    object\n",
      " 3   Date            360 non-null    object\n",
      " 4   Month           360 non-null    int64 \n",
      " 5   Day             360 non-null    int64 \n",
      " 6   Time            336 non-null    object\n",
      " 7   Hour            360 non-null    int64 \n",
      "dtypes: int64(4), object(4)\n",
      "memory usage: 22.6+ KB\n"
     ]
    }
   ],
   "source": [
    "chain_snatching_data.info()\n"
   ]
  },
  {
   "cell_type": "code",
   "execution_count": 23,
   "id": "4d8822d3-76f8-4d39-8aca-a48b1e9126d2",
   "metadata": {},
   "outputs": [],
   "source": [
    "four_wheeler_data['Hour'].fillna(value=14, inplace = True)"
   ]
  },
  {
   "cell_type": "code",
   "execution_count": 24,
   "id": "57603133-6aee-426d-b5cc-cdbe3ec0af88",
   "metadata": {},
   "outputs": [],
   "source": [
    "four_wheeler_data['Hour'] = four_wheeler_data['Hour'].astype('int64')"
   ]
  },
  {
   "cell_type": "code",
   "execution_count": 25,
   "id": "4b613f41-a3af-4a30-ad10-aedd99f3713a",
   "metadata": {},
   "outputs": [
    {
     "name": "stdout",
     "output_type": "stream",
     "text": [
      "<class 'pandas.core.frame.DataFrame'>\n",
      "RangeIndex: 216 entries, 0 to 215\n",
      "Data columns (total 8 columns):\n",
      " #   Column          Non-Null Count  Dtype \n",
      "---  ------          --------------  ----- \n",
      " 0   Police_Station  216 non-null    object\n",
      " 1   Year            216 non-null    int64 \n",
      " 2   Type            216 non-null    object\n",
      " 3   Date            216 non-null    object\n",
      " 4   Month           216 non-null    int64 \n",
      " 5   Day             216 non-null    int64 \n",
      " 6   Time            190 non-null    object\n",
      " 7   Hour            216 non-null    int64 \n",
      "dtypes: int64(4), object(4)\n",
      "memory usage: 13.6+ KB\n"
     ]
    }
   ],
   "source": [
    "four_wheeler_data.info()\n"
   ]
  },
  {
   "cell_type": "code",
   "execution_count": 26,
   "id": "5294a9ac-bba8-4d04-8cb6-c16240b0c5a6",
   "metadata": {},
   "outputs": [],
   "source": [
    "hurt_data['Hour'].fillna(value=14, inplace = True)"
   ]
  },
  {
   "cell_type": "code",
   "execution_count": 27,
   "id": "00621fab-202f-4c56-ad88-775bcaa81ed2",
   "metadata": {},
   "outputs": [],
   "source": [
    "hurt_data['Hour'] = hurt_data['Hour'].astype('int64')"
   ]
  },
  {
   "cell_type": "code",
   "execution_count": 28,
   "id": "fafa3054-232e-4cba-8ce8-ac688e8cc83c",
   "metadata": {},
   "outputs": [
    {
     "name": "stdout",
     "output_type": "stream",
     "text": [
      "<class 'pandas.core.frame.DataFrame'>\n",
      "RangeIndex: 1877 entries, 0 to 1876\n",
      "Data columns (total 8 columns):\n",
      " #   Column          Non-Null Count  Dtype \n",
      "---  ------          --------------  ----- \n",
      " 0   Police_Station  1877 non-null   object\n",
      " 1   Year            1877 non-null   int64 \n",
      " 2   Type            1877 non-null   object\n",
      " 3   Date            1877 non-null   object\n",
      " 4   Month           1877 non-null   int64 \n",
      " 5   Day             1877 non-null   int64 \n",
      " 6   Time            1635 non-null   object\n",
      " 7   Hour            1877 non-null   int64 \n",
      "dtypes: int64(4), object(4)\n",
      "memory usage: 117.4+ KB\n"
     ]
    }
   ],
   "source": [
    "hurt_data.info()\n"
   ]
  },
  {
   "cell_type": "code",
   "execution_count": 29,
   "id": "52b424dd-5d44-4da2-87ef-9cf6292965e3",
   "metadata": {},
   "outputs": [],
   "source": [
    "kidnapping_data['Hour'].fillna(value=14, inplace = True)"
   ]
  },
  {
   "cell_type": "code",
   "execution_count": 30,
   "id": "3dc25072-18f3-4ddd-88ba-9a055038823b",
   "metadata": {},
   "outputs": [],
   "source": [
    "kidnapping_data['Hour'] = kidnapping_data['Hour'].astype('int64')"
   ]
  },
  {
   "cell_type": "code",
   "execution_count": 31,
   "id": "ceb2deaf-0127-4902-af99-3bf356722e94",
   "metadata": {},
   "outputs": [
    {
     "name": "stdout",
     "output_type": "stream",
     "text": [
      "<class 'pandas.core.frame.DataFrame'>\n",
      "RangeIndex: 575 entries, 0 to 574\n",
      "Data columns (total 8 columns):\n",
      " #   Column          Non-Null Count  Dtype \n",
      "---  ------          --------------  ----- \n",
      " 0   Police_Station  575 non-null    object\n",
      " 1   Year            575 non-null    int64 \n",
      " 2   Type            575 non-null    object\n",
      " 3   Date            575 non-null    object\n",
      " 4   Month           575 non-null    int64 \n",
      " 5   Day             575 non-null    int64 \n",
      " 6   Time            515 non-null    object\n",
      " 7   Hour            575 non-null    int64 \n",
      "dtypes: int64(4), object(4)\n",
      "memory usage: 36.1+ KB\n"
     ]
    }
   ],
   "source": [
    "kidnapping_data.info()\n"
   ]
  },
  {
   "cell_type": "code",
   "execution_count": 32,
   "id": "43dfe439-dad9-4939-87a4-625ecebc55a7",
   "metadata": {},
   "outputs": [],
   "source": [
    "robery_data['Hour'].fillna(value=14, inplace = True)"
   ]
  },
  {
   "cell_type": "code",
   "execution_count": 33,
   "id": "f49904cc-4af1-416d-94b6-49d1440fd6c1",
   "metadata": {},
   "outputs": [],
   "source": [
    "robery_data['Hour'] = robery_data['Hour'].astype('int64')"
   ]
  },
  {
   "cell_type": "code",
   "execution_count": 34,
   "id": "88062320-8928-474c-9fb5-d18ab7a169c9",
   "metadata": {},
   "outputs": [
    {
     "name": "stdout",
     "output_type": "stream",
     "text": [
      "<class 'pandas.core.frame.DataFrame'>\n",
      "RangeIndex: 399 entries, 0 to 398\n",
      "Data columns (total 8 columns):\n",
      " #   Column          Non-Null Count  Dtype \n",
      "---  ------          --------------  ----- \n",
      " 0   Police_Station  399 non-null    object\n",
      " 1   Year            399 non-null    int64 \n",
      " 2   Type            399 non-null    object\n",
      " 3   Date            399 non-null    object\n",
      " 4   Month           399 non-null    int64 \n",
      " 5   Day             399 non-null    int64 \n",
      " 6   Time            365 non-null    object\n",
      " 7   Hour            399 non-null    int64 \n",
      "dtypes: int64(4), object(4)\n",
      "memory usage: 25.1+ KB\n"
     ]
    }
   ],
   "source": [
    "robery_data.info()\n"
   ]
  },
  {
   "cell_type": "code",
   "execution_count": 35,
   "id": "64d6501b-9a9c-4350-853b-803129051cec",
   "metadata": {},
   "outputs": [],
   "source": [
    "sexual_assault_data['Hour'].fillna(value=14, inplace = True)"
   ]
  },
  {
   "cell_type": "code",
   "execution_count": 36,
   "id": "a04b1806-de20-44e4-8e1a-0863f5d6f3ad",
   "metadata": {},
   "outputs": [],
   "source": [
    "sexual_assault_data['Hour'] = sexual_assault_data['Hour'].astype('int64')"
   ]
  },
  {
   "cell_type": "code",
   "execution_count": 37,
   "id": "6729f148-a355-447b-97bc-c09adf5f5048",
   "metadata": {},
   "outputs": [
    {
     "name": "stdout",
     "output_type": "stream",
     "text": [
      "<class 'pandas.core.frame.DataFrame'>\n",
      "RangeIndex: 76 entries, 0 to 75\n",
      "Data columns (total 8 columns):\n",
      " #   Column          Non-Null Count  Dtype \n",
      "---  ------          --------------  ----- \n",
      " 0   Police_Station  76 non-null     object\n",
      " 1   Year            76 non-null     int64 \n",
      " 2   Type            76 non-null     object\n",
      " 3   Date            76 non-null     object\n",
      " 4   Month           76 non-null     int64 \n",
      " 5   Day             76 non-null     int64 \n",
      " 6   Time            70 non-null     object\n",
      " 7   Hour            76 non-null     int64 \n",
      "dtypes: int64(4), object(4)\n",
      "memory usage: 4.9+ KB\n"
     ]
    }
   ],
   "source": [
    "sexual_assault_data.info()\n"
   ]
  },
  {
   "cell_type": "code",
   "execution_count": 38,
   "id": "04e23bd0-acb2-4409-b1f5-a906cb8125fe",
   "metadata": {},
   "outputs": [],
   "source": [
    "murder_data['Hour'].fillna(value=14, inplace = True)"
   ]
  },
  {
   "cell_type": "code",
   "execution_count": 39,
   "id": "638f30d7-7b0b-4cdc-8925-2f8c8692f946",
   "metadata": {},
   "outputs": [],
   "source": [
    "murder_data['Hour'] = murder_data['Hour'].astype('int64')"
   ]
  },
  {
   "cell_type": "code",
   "execution_count": 40,
   "id": "96f0add3-29f5-4b57-8a77-dadd1cfa9972",
   "metadata": {},
   "outputs": [
    {
     "name": "stdout",
     "output_type": "stream",
     "text": [
      "<class 'pandas.core.frame.DataFrame'>\n",
      "RangeIndex: 135 entries, 0 to 134\n",
      "Data columns (total 8 columns):\n",
      " #   Column          Non-Null Count  Dtype \n",
      "---  ------          --------------  ----- \n",
      " 0   Police_Station  135 non-null    object\n",
      " 1   Year            135 non-null    int64 \n",
      " 2   Type            135 non-null    object\n",
      " 3   Date            135 non-null    object\n",
      " 4   Month           135 non-null    object\n",
      " 5   Day             135 non-null    int64 \n",
      " 6   Time            125 non-null    object\n",
      " 7   Hour            135 non-null    int64 \n",
      "dtypes: int64(3), object(5)\n",
      "memory usage: 8.6+ KB\n"
     ]
    }
   ],
   "source": [
    "murder_data.info()\n"
   ]
  },
  {
   "cell_type": "code",
   "execution_count": null,
   "id": "e3ed1fe5-775e-4563-abcd-3e98e3a33246",
   "metadata": {},
   "outputs": [],
   "source": []
  },
  {
   "cell_type": "code",
   "execution_count": null,
   "id": "a4d574d8-0b19-46c4-b1c2-5757a4c39f0d",
   "metadata": {},
   "outputs": [],
   "source": []
  }
 ],
 "metadata": {
  "kernelspec": {
   "display_name": "Python 3",
   "language": "python",
   "name": "python3"
  },
  "language_info": {
   "codemirror_mode": {
    "name": "ipython",
    "version": 3
   },
   "file_extension": ".py",
   "mimetype": "text/x-python",
   "name": "python",
   "nbconvert_exporter": "python",
   "pygments_lexer": "ipython3",
   "version": "3.8.8"
  }
 },
 "nbformat": 4,
 "nbformat_minor": 5
}

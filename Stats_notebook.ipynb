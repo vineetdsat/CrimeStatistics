{
 "cells": [
  {
   "cell_type": "code",
   "execution_count": 64,
   "id": "d9cc22c1-9487-4219-842e-5c05bcab0cbc",
   "metadata": {},
   "outputs": [],
   "source": [
    "import pandas as pd\n",
    "import matplotlib.pyplot as plt\n",
    "import seaborn as sns"
   ]
  },
  {
   "cell_type": "code",
   "execution_count": 11,
   "id": "5ca67a18-54c6-490f-8251-a0cdafdb738b",
   "metadata": {},
   "outputs": [
    {
     "data": {
      "text/html": [
       "<div>\n",
       "<style scoped>\n",
       "    .dataframe tbody tr th:only-of-type {\n",
       "        vertical-align: middle;\n",
       "    }\n",
       "\n",
       "    .dataframe tbody tr th {\n",
       "        vertical-align: top;\n",
       "    }\n",
       "\n",
       "    .dataframe thead th {\n",
       "        text-align: right;\n",
       "    }\n",
       "</style>\n",
       "<table border=\"1\" class=\"dataframe\">\n",
       "  <thead>\n",
       "    <tr style=\"text-align: right;\">\n",
       "      <th></th>\n",
       "      <th>Sl.No</th>\n",
       "      <th>Police Stion</th>\n",
       "      <th>Year</th>\n",
       "      <th>Type</th>\n",
       "      <th>Date</th>\n",
       "      <th>Time</th>\n",
       "      <th>Place of Occurrence</th>\n",
       "      <th>Latitude</th>\n",
       "      <th>Longitude</th>\n",
       "      <th>Unnamed: 9</th>\n",
       "    </tr>\n",
       "  </thead>\n",
       "  <tbody>\n",
       "    <tr>\n",
       "      <th>0</th>\n",
       "      <td>1</td>\n",
       "      <td>Jayanagar</td>\n",
       "      <td>2016</td>\n",
       "      <td>Murder</td>\n",
       "      <td>29/07/2016</td>\n",
       "      <td>21:00:00</td>\n",
       "      <td>22nd Cross, Jayanagara 6th Block Bangalore</td>\n",
       "      <td>12.93297</td>\n",
       "      <td>77.58381</td>\n",
       "      <td>NaN</td>\n",
       "    </tr>\n",
       "    <tr>\n",
       "      <th>1</th>\n",
       "      <td>2</td>\n",
       "      <td>Jayanagar</td>\n",
       "      <td>2016</td>\n",
       "      <td>Murder</td>\n",
       "      <td>13/11/2016</td>\n",
       "      <td>23:45:00</td>\n",
       "      <td>On the Road of 30th Cross, Opp Vinayaka textti...</td>\n",
       "      <td>12.930433</td>\n",
       "      <td>77.549761</td>\n",
       "      <td>NaN</td>\n",
       "    </tr>\n",
       "    <tr>\n",
       "      <th>2</th>\n",
       "      <td>3</td>\n",
       "      <td>Jayanagar</td>\n",
       "      <td>2017</td>\n",
       "      <td>Murder</td>\n",
       "      <td>2017-10-05 00:00:00</td>\n",
       "      <td>21:00:00</td>\n",
       "      <td>No. 282, 36th Cross Jayanagara 7th Block Banga...</td>\n",
       "      <td>12.923736</td>\n",
       "      <td>77.58182</td>\n",
       "      <td>NaN</td>\n",
       "    </tr>\n",
       "    <tr>\n",
       "      <th>3</th>\n",
       "      <td>4</td>\n",
       "      <td>Jayanagar</td>\n",
       "      <td>2017</td>\n",
       "      <td>Murder</td>\n",
       "      <td>19/07/2017</td>\n",
       "      <td>19:30:00</td>\n",
       "      <td>Near Transfaram, Opp Amejan, Kanakapura Main R...</td>\n",
       "      <td>12.924123</td>\n",
       "      <td>77.576913</td>\n",
       "      <td>NaN</td>\n",
       "    </tr>\n",
       "    <tr>\n",
       "      <th>4</th>\n",
       "      <td>5</td>\n",
       "      <td>Jayanagar</td>\n",
       "      <td>2018</td>\n",
       "      <td>Murder</td>\n",
       "      <td>21/06/2018</td>\n",
       "      <td>23:30:00</td>\n",
       "      <td>No. 53, 2nd Floor, 8th Main 4th Block Jayanaga...</td>\n",
       "      <td>12.924377</td>\n",
       "      <td>77.582729</td>\n",
       "      <td>NaN</td>\n",
       "    </tr>\n",
       "  </tbody>\n",
       "</table>\n",
       "</div>"
      ],
      "text/plain": [
       "   Sl.No Police Stion  Year    Type                 Date      Time  \\\n",
       "0      1   Jayanagar   2016  Murder           29/07/2016  21:00:00   \n",
       "1      2   Jayanagar   2016  Murder           13/11/2016  23:45:00   \n",
       "2      3   Jayanagar   2017  Murder  2017-10-05 00:00:00  21:00:00   \n",
       "3      4   Jayanagar   2017  Murder           19/07/2017  19:30:00   \n",
       "4      5   Jayanagar   2018  Murder           21/06/2018  23:30:00   \n",
       "\n",
       "                                 Place of Occurrence   Latitude Longitude   \\\n",
       "0         22nd Cross, Jayanagara 6th Block Bangalore   12.93297   77.58381   \n",
       "1  On the Road of 30th Cross, Opp Vinayaka textti...  12.930433  77.549761   \n",
       "2  No. 282, 36th Cross Jayanagara 7th Block Banga...  12.923736   77.58182   \n",
       "3  Near Transfaram, Opp Amejan, Kanakapura Main R...  12.924123  77.576913   \n",
       "4  No. 53, 2nd Floor, 8th Main 4th Block Jayanaga...  12.924377  77.582729   \n",
       "\n",
       "   Unnamed: 9  \n",
       "0         NaN  \n",
       "1         NaN  \n",
       "2         NaN  \n",
       "3         NaN  \n",
       "4         NaN  "
      ]
     },
     "execution_count": 11,
     "metadata": {},
     "output_type": "execute_result"
    }
   ],
   "source": [
    "murder = pd.read_excel('data/Murder.xlsx')\n",
    "murder.head()"
   ]
  },
  {
   "cell_type": "code",
   "execution_count": 12,
   "id": "d3da13bc-8720-4c89-bcc9-36fc520309d5",
   "metadata": {},
   "outputs": [],
   "source": [
    "murder.drop('Unnamed: 9', axis = 'columns', inplace = True)"
   ]
  },
  {
   "cell_type": "code",
   "execution_count": 13,
   "id": "27f97345-7a9c-459a-a41b-10571eb339e7",
   "metadata": {},
   "outputs": [
    {
     "data": {
      "text/html": [
       "<div>\n",
       "<style scoped>\n",
       "    .dataframe tbody tr th:only-of-type {\n",
       "        vertical-align: middle;\n",
       "    }\n",
       "\n",
       "    .dataframe tbody tr th {\n",
       "        vertical-align: top;\n",
       "    }\n",
       "\n",
       "    .dataframe thead th {\n",
       "        text-align: right;\n",
       "    }\n",
       "</style>\n",
       "<table border=\"1\" class=\"dataframe\">\n",
       "  <thead>\n",
       "    <tr style=\"text-align: right;\">\n",
       "      <th></th>\n",
       "      <th>Sl.No</th>\n",
       "      <th>Police Stion</th>\n",
       "      <th>Year</th>\n",
       "      <th>Type</th>\n",
       "      <th>Date</th>\n",
       "      <th>Time</th>\n",
       "      <th>Place of Occurrence</th>\n",
       "      <th>Latitude</th>\n",
       "      <th>Longitude</th>\n",
       "    </tr>\n",
       "  </thead>\n",
       "  <tbody>\n",
       "    <tr>\n",
       "      <th>0</th>\n",
       "      <td>1</td>\n",
       "      <td>Jayanagar</td>\n",
       "      <td>2016</td>\n",
       "      <td>Murder</td>\n",
       "      <td>29/07/2016</td>\n",
       "      <td>21:00:00</td>\n",
       "      <td>22nd Cross, Jayanagara 6th Block Bangalore</td>\n",
       "      <td>12.93297</td>\n",
       "      <td>77.58381</td>\n",
       "    </tr>\n",
       "    <tr>\n",
       "      <th>1</th>\n",
       "      <td>2</td>\n",
       "      <td>Jayanagar</td>\n",
       "      <td>2016</td>\n",
       "      <td>Murder</td>\n",
       "      <td>13/11/2016</td>\n",
       "      <td>23:45:00</td>\n",
       "      <td>On the Road of 30th Cross, Opp Vinayaka textti...</td>\n",
       "      <td>12.930433</td>\n",
       "      <td>77.549761</td>\n",
       "    </tr>\n",
       "    <tr>\n",
       "      <th>2</th>\n",
       "      <td>3</td>\n",
       "      <td>Jayanagar</td>\n",
       "      <td>2017</td>\n",
       "      <td>Murder</td>\n",
       "      <td>2017-10-05 00:00:00</td>\n",
       "      <td>21:00:00</td>\n",
       "      <td>No. 282, 36th Cross Jayanagara 7th Block Banga...</td>\n",
       "      <td>12.923736</td>\n",
       "      <td>77.58182</td>\n",
       "    </tr>\n",
       "    <tr>\n",
       "      <th>3</th>\n",
       "      <td>4</td>\n",
       "      <td>Jayanagar</td>\n",
       "      <td>2017</td>\n",
       "      <td>Murder</td>\n",
       "      <td>19/07/2017</td>\n",
       "      <td>19:30:00</td>\n",
       "      <td>Near Transfaram, Opp Amejan, Kanakapura Main R...</td>\n",
       "      <td>12.924123</td>\n",
       "      <td>77.576913</td>\n",
       "    </tr>\n",
       "    <tr>\n",
       "      <th>4</th>\n",
       "      <td>5</td>\n",
       "      <td>Jayanagar</td>\n",
       "      <td>2018</td>\n",
       "      <td>Murder</td>\n",
       "      <td>21/06/2018</td>\n",
       "      <td>23:30:00</td>\n",
       "      <td>No. 53, 2nd Floor, 8th Main 4th Block Jayanaga...</td>\n",
       "      <td>12.924377</td>\n",
       "      <td>77.582729</td>\n",
       "    </tr>\n",
       "  </tbody>\n",
       "</table>\n",
       "</div>"
      ],
      "text/plain": [
       "   Sl.No Police Stion  Year    Type                 Date      Time  \\\n",
       "0      1   Jayanagar   2016  Murder           29/07/2016  21:00:00   \n",
       "1      2   Jayanagar   2016  Murder           13/11/2016  23:45:00   \n",
       "2      3   Jayanagar   2017  Murder  2017-10-05 00:00:00  21:00:00   \n",
       "3      4   Jayanagar   2017  Murder           19/07/2017  19:30:00   \n",
       "4      5   Jayanagar   2018  Murder           21/06/2018  23:30:00   \n",
       "\n",
       "                                 Place of Occurrence   Latitude Longitude   \n",
       "0         22nd Cross, Jayanagara 6th Block Bangalore   12.93297   77.58381  \n",
       "1  On the Road of 30th Cross, Opp Vinayaka textti...  12.930433  77.549761  \n",
       "2  No. 282, 36th Cross Jayanagara 7th Block Banga...  12.923736   77.58182  \n",
       "3  Near Transfaram, Opp Amejan, Kanakapura Main R...  12.924123  77.576913  \n",
       "4  No. 53, 2nd Floor, 8th Main 4th Block Jayanaga...  12.924377  77.582729  "
      ]
     },
     "execution_count": 13,
     "metadata": {},
     "output_type": "execute_result"
    }
   ],
   "source": [
    "murder.head()"
   ]
  },
  {
   "cell_type": "code",
   "execution_count": 14,
   "id": "d61a8d6c-0508-42b0-ba3b-957cd5ccf0a8",
   "metadata": {},
   "outputs": [
    {
     "data": {
      "text/html": [
       "<div>\n",
       "<style scoped>\n",
       "    .dataframe tbody tr th:only-of-type {\n",
       "        vertical-align: middle;\n",
       "    }\n",
       "\n",
       "    .dataframe tbody tr th {\n",
       "        vertical-align: top;\n",
       "    }\n",
       "\n",
       "    .dataframe thead th {\n",
       "        text-align: right;\n",
       "    }\n",
       "</style>\n",
       "<table border=\"1\" class=\"dataframe\">\n",
       "  <thead>\n",
       "    <tr style=\"text-align: right;\">\n",
       "      <th></th>\n",
       "      <th>Police Stion</th>\n",
       "      <th>Year</th>\n",
       "      <th>Type</th>\n",
       "      <th>Date</th>\n",
       "      <th>Time</th>\n",
       "      <th>Place of Occurrence</th>\n",
       "      <th>Latitude</th>\n",
       "      <th>Longitude</th>\n",
       "    </tr>\n",
       "  </thead>\n",
       "  <tbody>\n",
       "    <tr>\n",
       "      <th>0</th>\n",
       "      <td>Jayanagar</td>\n",
       "      <td>2016</td>\n",
       "      <td>Murder</td>\n",
       "      <td>29/07/2016</td>\n",
       "      <td>21:00:00</td>\n",
       "      <td>22nd Cross, Jayanagara 6th Block Bangalore</td>\n",
       "      <td>12.93297</td>\n",
       "      <td>77.58381</td>\n",
       "    </tr>\n",
       "    <tr>\n",
       "      <th>1</th>\n",
       "      <td>Jayanagar</td>\n",
       "      <td>2016</td>\n",
       "      <td>Murder</td>\n",
       "      <td>13/11/2016</td>\n",
       "      <td>23:45:00</td>\n",
       "      <td>On the Road of 30th Cross, Opp Vinayaka textti...</td>\n",
       "      <td>12.930433</td>\n",
       "      <td>77.549761</td>\n",
       "    </tr>\n",
       "    <tr>\n",
       "      <th>2</th>\n",
       "      <td>Jayanagar</td>\n",
       "      <td>2017</td>\n",
       "      <td>Murder</td>\n",
       "      <td>2017-10-05 00:00:00</td>\n",
       "      <td>21:00:00</td>\n",
       "      <td>No. 282, 36th Cross Jayanagara 7th Block Banga...</td>\n",
       "      <td>12.923736</td>\n",
       "      <td>77.58182</td>\n",
       "    </tr>\n",
       "    <tr>\n",
       "      <th>3</th>\n",
       "      <td>Jayanagar</td>\n",
       "      <td>2017</td>\n",
       "      <td>Murder</td>\n",
       "      <td>19/07/2017</td>\n",
       "      <td>19:30:00</td>\n",
       "      <td>Near Transfaram, Opp Amejan, Kanakapura Main R...</td>\n",
       "      <td>12.924123</td>\n",
       "      <td>77.576913</td>\n",
       "    </tr>\n",
       "    <tr>\n",
       "      <th>4</th>\n",
       "      <td>Jayanagar</td>\n",
       "      <td>2018</td>\n",
       "      <td>Murder</td>\n",
       "      <td>21/06/2018</td>\n",
       "      <td>23:30:00</td>\n",
       "      <td>No. 53, 2nd Floor, 8th Main 4th Block Jayanaga...</td>\n",
       "      <td>12.924377</td>\n",
       "      <td>77.582729</td>\n",
       "    </tr>\n",
       "  </tbody>\n",
       "</table>\n",
       "</div>"
      ],
      "text/plain": [
       "  Police Stion  Year    Type                 Date      Time  \\\n",
       "0   Jayanagar   2016  Murder           29/07/2016  21:00:00   \n",
       "1   Jayanagar   2016  Murder           13/11/2016  23:45:00   \n",
       "2   Jayanagar   2017  Murder  2017-10-05 00:00:00  21:00:00   \n",
       "3   Jayanagar   2017  Murder           19/07/2017  19:30:00   \n",
       "4   Jayanagar   2018  Murder           21/06/2018  23:30:00   \n",
       "\n",
       "                                 Place of Occurrence   Latitude Longitude   \n",
       "0         22nd Cross, Jayanagara 6th Block Bangalore   12.93297   77.58381  \n",
       "1  On the Road of 30th Cross, Opp Vinayaka textti...  12.930433  77.549761  \n",
       "2  No. 282, 36th Cross Jayanagara 7th Block Banga...  12.923736   77.58182  \n",
       "3  Near Transfaram, Opp Amejan, Kanakapura Main R...  12.924123  77.576913  \n",
       "4  No. 53, 2nd Floor, 8th Main 4th Block Jayanaga...  12.924377  77.582729  "
      ]
     },
     "execution_count": 14,
     "metadata": {},
     "output_type": "execute_result"
    }
   ],
   "source": [
    "murder.drop('Sl.No', axis = 'columns', inplace = True)\n",
    "murder.head()"
   ]
  },
  {
   "cell_type": "markdown",
   "id": "b7c51f2a-b539-49c7-a392-9db921e96e05",
   "metadata": {},
   "source": [
    "### Checking all the name of the Places in Column = Police Station, to check for Speiing Errors and Repetetipons"
   ]
  },
  {
   "cell_type": "code",
   "execution_count": 15,
   "id": "403fc5e4-f1c6-4687-8d8c-85a0c12fbd76",
   "metadata": {},
   "outputs": [
    {
     "data": {
      "text/plain": [
       "array(['Jayanagar ', 'Basavanagudi', 'J.P.nagar ', 'Banashankari', 'BSK',\n",
       "       'Siddapura ', 'Subramanyapura ', 'Thalaghtapura', 'Konanakunte',\n",
       "       'Puttenahalli', 'K.S.Layout', 'Ramakrishnanagar', 'J.P.Nagar',\n",
       "       'Chandranagar', 'Bendrenagar', 'Kashinagar', 'Yelachenahalli',\n",
       "       'Praghipura', 'Kadirenahalli', 'Uttarahalli', 'Iliyasnagar',\n",
       "       'GIRINAGAR PS', 'kg nagar ps', 'VV Puram', 'H NAGAR PS',\n",
       "       'C.K. Achuktu'], dtype=object)"
      ]
     },
     "execution_count": 15,
     "metadata": {},
     "output_type": "execute_result"
    }
   ],
   "source": [
    "murder['Police Stion'].unique()"
   ]
  },
  {
   "cell_type": "code",
   "execution_count": 17,
   "id": "1d363dab-5099-40eb-9b8c-476c15e0701d",
   "metadata": {},
   "outputs": [
    {
     "data": {
      "text/plain": [
       "array(['Jayanagar ', 'Basavanagudi', 'J.P.nagar ', 'Banashankari',\n",
       "       'Siddapura ', 'Subramanyapura ', 'Thalaghtapura', 'Konanakunte',\n",
       "       'Puttenahalli', 'K.S.Layout', 'Ramakrishnanagar', 'J.P.Nagar',\n",
       "       'Chandranagar', 'Bendrenagar', 'Kashinagar', 'Yelachenahalli',\n",
       "       'Praghipura', 'Kadirenahalli', 'Uttarahalli', 'Iliyasnagar',\n",
       "       'GIRINAGAR PS', 'kg nagar ps', 'VV Puram', 'H NAGAR PS',\n",
       "       'C.K. Achuktu'], dtype=object)"
      ]
     },
     "execution_count": 17,
     "metadata": {},
     "output_type": "execute_result"
    }
   ],
   "source": [
    "murder['Police Stion'].replace(to_replace = 'BSK', value = 'Banashankari', inplace = True)\n",
    "murder['Police Stion'].unique()"
   ]
  },
  {
   "cell_type": "code",
   "execution_count": 18,
   "id": "2a6a6c1e-2ac2-4f0f-b97d-20dba0ed6d4e",
   "metadata": {},
   "outputs": [
    {
     "data": {
      "text/plain": [
       "array(['Jayanagar ', 'Basavanagudi', 'J.P.Nagar', 'Banashankari',\n",
       "       'Siddapura ', 'Subramanyapura ', 'Thalaghtapura', 'Konanakunte',\n",
       "       'Puttenahalli', 'K.S.Layout', 'Ramakrishnanagar', 'Chandranagar',\n",
       "       'Bendrenagar', 'Kashinagar', 'Yelachenahalli', 'Praghipura',\n",
       "       'Kadirenahalli', 'Uttarahalli', 'Iliyasnagar', 'GIRINAGAR PS',\n",
       "       'kg nagar ps', 'VV Puram', 'H NAGAR PS', 'C.K. Achuktu'],\n",
       "      dtype=object)"
      ]
     },
     "execution_count": 18,
     "metadata": {},
     "output_type": "execute_result"
    }
   ],
   "source": [
    "murder['Police Stion'].replace(to_replace = 'J.P.nagar ', value = 'J.P.Nagar', inplace = True)\n",
    "murder['Police Stion'].unique()"
   ]
  },
  {
   "cell_type": "code",
   "execution_count": 19,
   "id": "bc570d27-368e-4603-9835-47e482f8b2e9",
   "metadata": {},
   "outputs": [
    {
     "name": "stdout",
     "output_type": "stream",
     "text": [
      "<class 'pandas.core.frame.DataFrame'>\n",
      "RangeIndex: 135 entries, 0 to 134\n",
      "Data columns (total 8 columns):\n",
      " #   Column               Non-Null Count  Dtype \n",
      "---  ------               --------------  ----- \n",
      " 0   Police Stion         135 non-null    object\n",
      " 1   Year                 135 non-null    int64 \n",
      " 2   Type                 135 non-null    object\n",
      " 3   Date                 135 non-null    object\n",
      " 4   Time                 123 non-null    object\n",
      " 5   Place of Occurrence  135 non-null    object\n",
      " 6   Latitude             135 non-null    object\n",
      " 7   Longitude            135 non-null    object\n",
      "dtypes: int64(1), object(7)\n",
      "memory usage: 8.6+ KB\n"
     ]
    }
   ],
   "source": [
    "murder.info()"
   ]
  },
  {
   "cell_type": "code",
   "execution_count": 22,
   "id": "71bfccf2-776d-439c-8110-63b30a5253de",
   "metadata": {},
   "outputs": [
    {
     "data": {
      "text/html": [
       "<div>\n",
       "<style scoped>\n",
       "    .dataframe tbody tr th:only-of-type {\n",
       "        vertical-align: middle;\n",
       "    }\n",
       "\n",
       "    .dataframe tbody tr th {\n",
       "        vertical-align: top;\n",
       "    }\n",
       "\n",
       "    .dataframe thead th {\n",
       "        text-align: right;\n",
       "    }\n",
       "</style>\n",
       "<table border=\"1\" class=\"dataframe\">\n",
       "  <thead>\n",
       "    <tr style=\"text-align: right;\">\n",
       "      <th></th>\n",
       "      <th>Police_Station</th>\n",
       "      <th>Year</th>\n",
       "      <th>Type</th>\n",
       "      <th>Date</th>\n",
       "      <th>Time</th>\n",
       "      <th>Place</th>\n",
       "      <th>Latitude</th>\n",
       "      <th>Longitude</th>\n",
       "    </tr>\n",
       "  </thead>\n",
       "  <tbody>\n",
       "    <tr>\n",
       "      <th>0</th>\n",
       "      <td>Jayanagar</td>\n",
       "      <td>2016</td>\n",
       "      <td>Murder</td>\n",
       "      <td>29/07/2016</td>\n",
       "      <td>21:00:00</td>\n",
       "      <td>22nd Cross, Jayanagara 6th Block Bangalore</td>\n",
       "      <td>12.93297</td>\n",
       "      <td>77.58381</td>\n",
       "    </tr>\n",
       "    <tr>\n",
       "      <th>1</th>\n",
       "      <td>Jayanagar</td>\n",
       "      <td>2016</td>\n",
       "      <td>Murder</td>\n",
       "      <td>13/11/2016</td>\n",
       "      <td>23:45:00</td>\n",
       "      <td>On the Road of 30th Cross, Opp Vinayaka textti...</td>\n",
       "      <td>12.930433</td>\n",
       "      <td>77.549761</td>\n",
       "    </tr>\n",
       "    <tr>\n",
       "      <th>2</th>\n",
       "      <td>Jayanagar</td>\n",
       "      <td>2017</td>\n",
       "      <td>Murder</td>\n",
       "      <td>2017-10-05 00:00:00</td>\n",
       "      <td>21:00:00</td>\n",
       "      <td>No. 282, 36th Cross Jayanagara 7th Block Banga...</td>\n",
       "      <td>12.923736</td>\n",
       "      <td>77.58182</td>\n",
       "    </tr>\n",
       "    <tr>\n",
       "      <th>3</th>\n",
       "      <td>Jayanagar</td>\n",
       "      <td>2017</td>\n",
       "      <td>Murder</td>\n",
       "      <td>19/07/2017</td>\n",
       "      <td>19:30:00</td>\n",
       "      <td>Near Transfaram, Opp Amejan, Kanakapura Main R...</td>\n",
       "      <td>12.924123</td>\n",
       "      <td>77.576913</td>\n",
       "    </tr>\n",
       "    <tr>\n",
       "      <th>4</th>\n",
       "      <td>Jayanagar</td>\n",
       "      <td>2018</td>\n",
       "      <td>Murder</td>\n",
       "      <td>21/06/2018</td>\n",
       "      <td>23:30:00</td>\n",
       "      <td>No. 53, 2nd Floor, 8th Main 4th Block Jayanaga...</td>\n",
       "      <td>12.924377</td>\n",
       "      <td>77.582729</td>\n",
       "    </tr>\n",
       "  </tbody>\n",
       "</table>\n",
       "</div>"
      ],
      "text/plain": [
       "  Police_Station  Year    Type                 Date      Time  \\\n",
       "0     Jayanagar   2016  Murder           29/07/2016  21:00:00   \n",
       "1     Jayanagar   2016  Murder           13/11/2016  23:45:00   \n",
       "2     Jayanagar   2017  Murder  2017-10-05 00:00:00  21:00:00   \n",
       "3     Jayanagar   2017  Murder           19/07/2017  19:30:00   \n",
       "4     Jayanagar   2018  Murder           21/06/2018  23:30:00   \n",
       "\n",
       "                                               Place   Latitude Longitude   \n",
       "0         22nd Cross, Jayanagara 6th Block Bangalore   12.93297   77.58381  \n",
       "1  On the Road of 30th Cross, Opp Vinayaka textti...  12.930433  77.549761  \n",
       "2  No. 282, 36th Cross Jayanagara 7th Block Banga...  12.923736   77.58182  \n",
       "3  Near Transfaram, Opp Amejan, Kanakapura Main R...  12.924123  77.576913  \n",
       "4  No. 53, 2nd Floor, 8th Main 4th Block Jayanaga...  12.924377  77.582729  "
      ]
     },
     "execution_count": 22,
     "metadata": {},
     "output_type": "execute_result"
    }
   ],
   "source": [
    "murder.rename(columns = {'Police Stion' : 'Police_Station', 'Year' : 'Year', 'Type':'Type', 'Date':'Date', 'Time':'Time', 'Place of Occurrence' : 'Place', 'Latitude' : 'Latitude', 'Longitude' : 'Longitude'}, inplace = True)\n",
    "murder.head()             "
   ]
  },
  {
   "cell_type": "markdown",
   "id": "bec3a7be-29f2-4b7e-a560-30db7962f1f2",
   "metadata": {},
   "source": [
    "### Performed to see how many years of Data are we dealing With"
   ]
  },
  {
   "cell_type": "code",
   "execution_count": 24,
   "id": "72d99b1a-3642-48c0-bc5b-695f9ac298ba",
   "metadata": {},
   "outputs": [
    {
     "data": {
      "text/plain": [
       "array([2016, 2017, 2018, 2015, 2019], dtype=int64)"
      ]
     },
     "execution_count": 24,
     "metadata": {},
     "output_type": "execute_result"
    }
   ],
   "source": [
    "murder['Year'].unique()"
   ]
  },
  {
   "cell_type": "markdown",
   "id": "e0da4684-ae3a-48da-90f3-50cfe7d7efb3",
   "metadata": {},
   "source": [
    "## Finding the Murder Count varring accross the Years"
   ]
  },
  {
   "cell_type": "code",
   "execution_count": 58,
   "id": "1883e776-fdf6-4714-b6b6-a3a01e829754",
   "metadata": {},
   "outputs": [],
   "source": [
    "murder_df = pd.DataFrame(murder['Year'].value_counts())"
   ]
  },
  {
   "cell_type": "code",
   "execution_count": 60,
   "id": "0b3d425f-1948-472b-9d99-b64c88c11d33",
   "metadata": {},
   "outputs": [],
   "source": [
    "murder_df = murder_df.reset_index()"
   ]
  },
  {
   "cell_type": "code",
   "execution_count": 61,
   "id": "49ea0bc8-8361-47e0-81fc-d65ea3fcadc2",
   "metadata": {},
   "outputs": [
    {
     "data": {
      "text/html": [
       "<div>\n",
       "<style scoped>\n",
       "    .dataframe tbody tr th:only-of-type {\n",
       "        vertical-align: middle;\n",
       "    }\n",
       "\n",
       "    .dataframe tbody tr th {\n",
       "        vertical-align: top;\n",
       "    }\n",
       "\n",
       "    .dataframe thead th {\n",
       "        text-align: right;\n",
       "    }\n",
       "</style>\n",
       "<table border=\"1\" class=\"dataframe\">\n",
       "  <thead>\n",
       "    <tr style=\"text-align: right;\">\n",
       "      <th></th>\n",
       "      <th>index</th>\n",
       "      <th>Year</th>\n",
       "    </tr>\n",
       "  </thead>\n",
       "  <tbody>\n",
       "    <tr>\n",
       "      <th>0</th>\n",
       "      <td>2016</td>\n",
       "      <td>33</td>\n",
       "    </tr>\n",
       "    <tr>\n",
       "      <th>1</th>\n",
       "      <td>2017</td>\n",
       "      <td>32</td>\n",
       "    </tr>\n",
       "    <tr>\n",
       "      <th>2</th>\n",
       "      <td>2018</td>\n",
       "      <td>28</td>\n",
       "    </tr>\n",
       "    <tr>\n",
       "      <th>3</th>\n",
       "      <td>2015</td>\n",
       "      <td>21</td>\n",
       "    </tr>\n",
       "    <tr>\n",
       "      <th>4</th>\n",
       "      <td>2019</td>\n",
       "      <td>21</td>\n",
       "    </tr>\n",
       "  </tbody>\n",
       "</table>\n",
       "</div>"
      ],
      "text/plain": [
       "   index  Year\n",
       "0   2016    33\n",
       "1   2017    32\n",
       "2   2018    28\n",
       "3   2015    21\n",
       "4   2019    21"
      ]
     },
     "execution_count": 61,
     "metadata": {},
     "output_type": "execute_result"
    }
   ],
   "source": [
    "murder_df"
   ]
  },
  {
   "cell_type": "code",
   "execution_count": 62,
   "id": "2f8323f3-8c38-4058-a47b-9ed1b7956ce9",
   "metadata": {},
   "outputs": [
    {
     "data": {
      "text/html": [
       "<div>\n",
       "<style scoped>\n",
       "    .dataframe tbody tr th:only-of-type {\n",
       "        vertical-align: middle;\n",
       "    }\n",
       "\n",
       "    .dataframe tbody tr th {\n",
       "        vertical-align: top;\n",
       "    }\n",
       "\n",
       "    .dataframe thead th {\n",
       "        text-align: right;\n",
       "    }\n",
       "</style>\n",
       "<table border=\"1\" class=\"dataframe\">\n",
       "  <thead>\n",
       "    <tr style=\"text-align: right;\">\n",
       "      <th></th>\n",
       "      <th>Year</th>\n",
       "      <th>Murder_Count</th>\n",
       "    </tr>\n",
       "  </thead>\n",
       "  <tbody>\n",
       "    <tr>\n",
       "      <th>0</th>\n",
       "      <td>2016</td>\n",
       "      <td>33</td>\n",
       "    </tr>\n",
       "    <tr>\n",
       "      <th>1</th>\n",
       "      <td>2017</td>\n",
       "      <td>32</td>\n",
       "    </tr>\n",
       "    <tr>\n",
       "      <th>2</th>\n",
       "      <td>2018</td>\n",
       "      <td>28</td>\n",
       "    </tr>\n",
       "    <tr>\n",
       "      <th>3</th>\n",
       "      <td>2015</td>\n",
       "      <td>21</td>\n",
       "    </tr>\n",
       "  </tbody>\n",
       "</table>\n",
       "</div>"
      ],
      "text/plain": [
       "   Year  Murder_Count\n",
       "0  2016            33\n",
       "1  2017            32\n",
       "2  2018            28\n",
       "3  2015            21"
      ]
     },
     "execution_count": 62,
     "metadata": {},
     "output_type": "execute_result"
    }
   ],
   "source": [
    "murder_df.rename(columns = {'index' : 'Year', 'Year' : 'Murder_Count'}, inplace = True)\n",
    "murder_df.drop(labels = 4, axis = 0, inplace = True)\n",
    "murder_df "
   ]
  },
  {
   "cell_type": "code",
   "execution_count": 66,
   "id": "da58825e-0816-4db0-a3e2-015b9972db7e",
   "metadata": {},
   "outputs": [
    {
     "data": {
      "text/plain": [
       "<AxesSubplot:xlabel='Year', ylabel='Murder_Count'>"
      ]
     },
     "execution_count": 66,
     "metadata": {},
     "output_type": "execute_result"
    },
    {
     "data": {
      "image/png": "[encoded data removed]",
      "text/plain": [
       "<Figure size 432x288 with 1 Axes>"
      ]
     },
     "metadata": {
      "needs_background": "light"
     },
     "output_type": "display_data"
    }
   ],
   "source": [
    "sns.barplot(data=murder_df, x=\"Year\", y=\"Murder_Count\")"
   ]
  },
  {
   "cell_type": "code",
   "execution_count": null,
   "id": "9bf402c4-aa78-432a-9f56-3355a4a9482a",
   "metadata": {},
   "outputs": [],
   "source": []
  }
 ],
 "metadata": {
  "kernelspec": {
   "display_name": "Python 3",
   "language": "python",
   "name": "python3"
  },
  "language_info": {
   "codemirror_mode": {
    "name": "ipython",
    "version": 3
   },
   "file_extension": ".py",
   "mimetype": "text/x-python",
   "name": "python",
   "nbconvert_exporter": "python",
   "pygments_lexer": "ipython3",
   "version": "3.8.8"
  }
 },
 "nbformat": 4,
 "nbformat_minor": 5
}

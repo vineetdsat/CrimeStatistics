{
 "cells": [
  {
   "cell_type": "markdown",
   "id": "1a34cc8b-27e5-42dc-acf9-d5fce12b62f5",
   "metadata": {},
   "source": [
    "## Importing the Libraries"
   ]
  },
  {
   "cell_type": "code",
   "execution_count": 1,
   "id": "73ffd0ba-8376-4634-b953-dce480c5e070",
   "metadata": {},
   "outputs": [],
   "source": [
    "import pandas as pd"
   ]
  },
  {
   "cell_type": "markdown",
   "id": "f5d6323e-4392-4e35-b0e3-d753085a927b",
   "metadata": {},
   "source": [
    "### Adding all the Databbases, commented one out as it was not loading correctly "
   ]
  },
  {
   "cell_type": "code",
   "execution_count": 51,
   "id": "2c2d72ed-2dbd-4417-bd32-c75def724f07",
   "metadata": {},
   "outputs": [],
   "source": [
    "murder_db = pd.read_excel('data/Murder.xlsx')\n",
    "two_wheeler_db = pd.read_excel('data/2 Wheeler Theft.xlsx')\n",
    "four_wheeler_db = pd.read_excel('data/4 Wheeler Theft.xlsx')\n",
    "attempt_murder_db = pd.read_excel('data/307 IPC.xlsx')\n",
    "sexual_assault_db = pd.read_excel('data/376 IPC.xlsx')\n",
    "hurt_db = pd.read_excel('data/Hurt.xlsx')\n",
    "kidnap_db = pd.read_excel('data/Kidnap.xlsx')\n",
    "#ordinary_theft_db = pd.read_excel('data/Ordinary Theft.xlsx')\n",
    "robbery_db = pd.read_excel('data/Robbery.xlsx')\n",
    "chain_snatching_db = pd.read_excel('data/CS.xlsx')"
   ]
  },
  {
   "cell_type": "markdown",
   "id": "0c014759-3b6b-4811-bd90-22f4c4833b60",
   "metadata": {},
   "source": [
    "## Checking the added daatsets"
   ]
  },
  {
   "cell_type": "code",
   "execution_count": 48,
   "id": "2ea29e88-1a39-4099-97e6-9ed114a20b21",
   "metadata": {},
   "outputs": [
    {
     "data": {
      "text/html": [
       "<div>\n",
       "<style scoped>\n",
       "    .dataframe tbody tr th:only-of-type {\n",
       "        vertical-align: middle;\n",
       "    }\n",
       "\n",
       "    .dataframe tbody tr th {\n",
       "        vertical-align: top;\n",
       "    }\n",
       "\n",
       "    .dataframe thead th {\n",
       "        text-align: right;\n",
       "    }\n",
       "</style>\n",
       "<table border=\"1\" class=\"dataframe\">\n",
       "  <thead>\n",
       "    <tr style=\"text-align: right;\">\n",
       "      <th></th>\n",
       "      <th>Police Stion</th>\n",
       "      <th>Year</th>\n",
       "      <th>Type</th>\n",
       "      <th>Date</th>\n",
       "      <th>Time</th>\n",
       "      <th>Place of Occurrence</th>\n",
       "      <th>Lattitude</th>\n",
       "      <th>Longitude</th>\n",
       "    </tr>\n",
       "  </thead>\n",
       "  <tbody>\n",
       "    <tr>\n",
       "      <th>0</th>\n",
       "      <td>Jayanagar</td>\n",
       "      <td>2015.0</td>\n",
       "      <td>2 wheeler theft</td>\n",
       "      <td>2015-02-01 00:00:00</td>\n",
       "      <td>16:45:00</td>\n",
       "      <td>Surana college, South end road Basavanagudi</td>\n",
       "      <td>12.88605</td>\n",
       "      <td>77.494843</td>\n",
       "    </tr>\n",
       "    <tr>\n",
       "      <th>1</th>\n",
       "      <td>Jayanagar</td>\n",
       "      <td>2015.0</td>\n",
       "      <td>2 wheeler theft</td>\n",
       "      <td>2015-03-01 00:00:00</td>\n",
       "      <td>20:00:00</td>\n",
       "      <td>NO. 324, 10TH A MAIN 3RD BLOCK JAYANAGARA</td>\n",
       "      <td>12.915668</td>\n",
       "      <td>77.589662</td>\n",
       "    </tr>\n",
       "    <tr>\n",
       "      <th>2</th>\n",
       "      <td>Jayanagar</td>\n",
       "      <td>2015.0</td>\n",
       "      <td>2 wheeler theft</td>\n",
       "      <td>2015-04-01 00:00:00</td>\n",
       "      <td>17:30:00</td>\n",
       "      <td>INFRONTT OF NO.459/58,-1, S.R PLAZA, 2nd MAIN,...</td>\n",
       "      <td>12.926896</td>\n",
       "      <td>77.589654</td>\n",
       "    </tr>\n",
       "    <tr>\n",
       "      <th>3</th>\n",
       "      <td>Jayanagar</td>\n",
       "      <td>2015.0</td>\n",
       "      <td>2 wheeler theft</td>\n",
       "      <td>2015-05-01 00:00:00</td>\n",
       "      <td>19:45:00</td>\n",
       "      <td>INFRONT OF NO.168/3, 26th CROSS, 2nd D. MAIN,6...</td>\n",
       "      <td>12.9184</td>\n",
       "      <td>77.58268</td>\n",
       "    </tr>\n",
       "    <tr>\n",
       "      <th>4</th>\n",
       "      <td>Jayanagar</td>\n",
       "      <td>2015.0</td>\n",
       "      <td>2 wheeler theft</td>\n",
       "      <td>2015-06-01 00:00:00</td>\n",
       "      <td>19:45:00</td>\n",
       "      <td>INFRONT OF 19-19/1, SOUTHEND ROAD,BASAVANAGUDI</td>\n",
       "      <td>12.923665</td>\n",
       "      <td>77.589668</td>\n",
       "    </tr>\n",
       "  </tbody>\n",
       "</table>\n",
       "</div>"
      ],
      "text/plain": [
       "  Police Stion    Year             Type                 Date      Time  \\\n",
       "0    Jayanagar  2015.0  2 wheeler theft  2015-02-01 00:00:00  16:45:00   \n",
       "1    Jayanagar  2015.0  2 wheeler theft  2015-03-01 00:00:00  20:00:00   \n",
       "2    Jayanagar  2015.0  2 wheeler theft  2015-04-01 00:00:00  17:30:00   \n",
       "3    Jayanagar  2015.0  2 wheeler theft  2015-05-01 00:00:00  19:45:00   \n",
       "4    Jayanagar  2015.0  2 wheeler theft  2015-06-01 00:00:00  19:45:00   \n",
       "\n",
       "                                 Place of Occurrence  Lattitude  Longitude  \n",
       "0        Surana college, South end road Basavanagudi   12.88605  77.494843  \n",
       "1          NO. 324, 10TH A MAIN 3RD BLOCK JAYANAGARA  12.915668  77.589662  \n",
       "2  INFRONTT OF NO.459/58,-1, S.R PLAZA, 2nd MAIN,...  12.926896  77.589654  \n",
       "3  INFRONT OF NO.168/3, 26th CROSS, 2nd D. MAIN,6...    12.9184   77.58268  \n",
       "4     INFRONT OF 19-19/1, SOUTHEND ROAD,BASAVANAGUDI  12.923665  77.589668  "
      ]
     },
     "execution_count": 48,
     "metadata": {},
     "output_type": "execute_result"
    }
   ],
   "source": [
    "two_wWheeler_db.head()"
   ]
  },
  {
   "cell_type": "markdown",
   "id": "cb040e7f-487f-42a6-999b-0654a0423abd",
   "metadata": {},
   "source": [
    "## Removing the Serial Number Column from every Data set"
   ]
  },
  {
   "cell_type": "code",
   "execution_count": 52,
   "id": "94b55d8e-9d6a-445f-a385-5c6ea4264ce0",
   "metadata": {},
   "outputs": [],
   "source": [
    "murder_db.drop('Sl.No', axis = 1, inplace = True)\n",
    "two_wheeler_db.drop('Sl.No', axis = 1, inplace = True)\n",
    "four_wheeler_db.drop('Sl.No', axis = 1, inplace = True)\n",
    "attempt_murder_db.drop('Sl.No', axis = 1, inplace = True)\n",
    "sexual_assault_db.drop('Sl.No', axis = 1, inplace = True)\n",
    "hurt_db.drop('Sl.No', axis = 1, inplace = True)\n",
    "kidnap_db.drop('Sl.No', axis = 1, inplace = True)\n",
    "robbery_db.drop('Sl.No', axis = 1, inplace = True)\n",
    "chain_snatching_db.drop('Sl.No', axis = 1, inplace = True)"
   ]
  },
  {
   "cell_type": "markdown",
   "id": "1c8a3ad4-5ee2-4cdc-8af0-1f9839b30c3f",
   "metadata": {},
   "source": [
    "### The Above tableas 3 of the Data sets have an unwanted Column called as Unnamed: 9..... now we need to Remove that"
   ]
  },
  {
   "cell_type": "code",
   "execution_count": 53,
   "id": "d07ffab5-ee3e-4a52-97ee-8b2c0b7e7128",
   "metadata": {},
   "outputs": [],
   "source": [
    "murder_db.drop('Unnamed: 9', axis = 1, inplace = True)\n",
    "attempt_murder_db.drop('Unnamed: 9', axis = 1, inplace = True)\n",
    "robbery_db.drop('Unnamed: 9', axis = 1, inplace = True)"
   ]
  },
  {
   "cell_type": "code",
   "execution_count": 79,
   "id": "309e640b-40ec-4dea-bd58-4bc3b642c0f0",
   "metadata": {},
   "outputs": [
    {
     "data": {
      "text/html": [
       "<div>\n",
       "<style scoped>\n",
       "    .dataframe tbody tr th:only-of-type {\n",
       "        vertical-align: middle;\n",
       "    }\n",
       "\n",
       "    .dataframe tbody tr th {\n",
       "        vertical-align: top;\n",
       "    }\n",
       "\n",
       "    .dataframe thead th {\n",
       "        text-align: right;\n",
       "    }\n",
       "</style>\n",
       "<table border=\"1\" class=\"dataframe\">\n",
       "  <thead>\n",
       "    <tr style=\"text-align: right;\">\n",
       "      <th></th>\n",
       "      <th>Police Stion</th>\n",
       "      <th>Year</th>\n",
       "      <th>Type</th>\n",
       "      <th>Date</th>\n",
       "      <th>Time</th>\n",
       "      <th>Place of Occurrence</th>\n",
       "      <th>Lattitude</th>\n",
       "      <th>Longitude</th>\n",
       "    </tr>\n",
       "  </thead>\n",
       "  <tbody>\n",
       "    <tr>\n",
       "      <th>0</th>\n",
       "      <td>Jayanagar</td>\n",
       "      <td>2016.0</td>\n",
       "      <td>Attempted \\nMurder</td>\n",
       "      <td>2016-10-02 00:00:00</td>\n",
       "      <td>07:00:00</td>\n",
       "      <td>No 556, 10th A Main road, 35th Cross, 5th Bloc...</td>\n",
       "      <td>12.971599</td>\n",
       "      <td>77.594563</td>\n",
       "    </tr>\n",
       "    <tr>\n",
       "      <th>1</th>\n",
       "      <td>Jayanagar</td>\n",
       "      <td>2016.0</td>\n",
       "      <td>Attempted \\nMurder</td>\n",
       "      <td>2016-09-11 00:00:00</td>\n",
       "      <td>13:30:00</td>\n",
       "      <td>Banashankari Circle, Kanakapura Main Road Bang...</td>\n",
       "      <td>12.80642</td>\n",
       "      <td>77.52537</td>\n",
       "    </tr>\n",
       "    <tr>\n",
       "      <th>2</th>\n",
       "      <td>Jayanagar</td>\n",
       "      <td>2017.0</td>\n",
       "      <td>Attempted \\nMurder</td>\n",
       "      <td>15/01/2017</td>\n",
       "      <td>10:15PM</td>\n",
       "      <td>No.1/22, Kalappa Block, Bugle Rock Road, Basav...</td>\n",
       "      <td>12.88605</td>\n",
       "      <td>77.494843</td>\n",
       "    </tr>\n",
       "    <tr>\n",
       "      <th>3</th>\n",
       "      <td>Jayanagar</td>\n",
       "      <td>2017.0</td>\n",
       "      <td>Attempted \\nMurder</td>\n",
       "      <td>21/01/2017</td>\n",
       "      <td>23:50:00</td>\n",
       "      <td>Near Ragavendra Temple, 46th Cross, Jayanagara...</td>\n",
       "      <td>12.921755</td>\n",
       "      <td>77.588346</td>\n",
       "    </tr>\n",
       "    <tr>\n",
       "      <th>4</th>\n",
       "      <td>Jayanagar</td>\n",
       "      <td>2017.0</td>\n",
       "      <td>Attempted \\nMurder</td>\n",
       "      <td>2017-12-06 00:00:00</td>\n",
       "      <td>07:35:00</td>\n",
       "      <td>18th Main, 36th F Cross Jayanagara 4th T Block...</td>\n",
       "      <td>12.922076</td>\n",
       "      <td>77.558954</td>\n",
       "    </tr>\n",
       "  </tbody>\n",
       "</table>\n",
       "</div>"
      ],
      "text/plain": [
       "  Police Stion    Year                Type                 Date      Time  \\\n",
       "0   Jayanagar   2016.0  Attempted \\nMurder  2016-10-02 00:00:00  07:00:00   \n",
       "1   Jayanagar   2016.0  Attempted \\nMurder  2016-09-11 00:00:00  13:30:00   \n",
       "2   Jayanagar   2017.0  Attempted \\nMurder           15/01/2017   10:15PM   \n",
       "3   Jayanagar   2017.0  Attempted \\nMurder           21/01/2017  23:50:00   \n",
       "4   Jayanagar   2017.0  Attempted \\nMurder  2017-12-06 00:00:00  07:35:00   \n",
       "\n",
       "                                 Place of Occurrence Lattitude   Longitude  \n",
       "0  No 556, 10th A Main road, 35th Cross, 5th Bloc...  12.971599  77.594563  \n",
       "1  Banashankari Circle, Kanakapura Main Road Bang...   12.80642   77.52537  \n",
       "2  No.1/22, Kalappa Block, Bugle Rock Road, Basav...   12.88605  77.494843  \n",
       "3  Near Ragavendra Temple, 46th Cross, Jayanagara...  12.921755  77.588346  \n",
       "4  18th Main, 36th F Cross Jayanagara 4th T Block...  12.922076  77.558954  "
      ]
     },
     "execution_count": 79,
     "metadata": {},
     "output_type": "execute_result"
    }
   ],
   "source": [
    "attempt_murder_db.head()"
   ]
  },
  {
   "cell_type": "code",
   "execution_count": 80,
   "id": "8e2b44cf-3918-4490-b262-25087beae3a7",
   "metadata": {},
   "outputs": [
    {
     "data": {
      "text/plain": [
       "array(['Jayanagar ', 'Basavanagudi ', 'J.P.nagar ', 'Banashankari', 'BSK',\n",
       "       'Siddapura', 'Siddapura ', 'Subramanyapura ', 'Thalaghtarapura',\n",
       "       'konanakunte ps ', 'Puttenahalli ', 'KS LAYOUT', 'GIRINAGAR PS',\n",
       "       'K.G. Nagar PS', 'Shankarapura', 'VV Puram',\n",
       "       'Hanumantha Nagar PS ', 'C.K. Achuktu'], dtype=object)"
      ]
     },
     "execution_count": 80,
     "metadata": {},
     "output_type": "execute_result"
    }
   ],
   "source": [
    "attempt_murder_db['Police Stion'].unique()"
   ]
  },
  {
   "cell_type": "code",
   "execution_count": 81,
   "id": "1faf0fb8-a5ba-4ced-9dc0-bb6568be0002",
   "metadata": {},
   "outputs": [],
   "source": [
    "attempt_murder_db['Police Stion'].replace(to_replace = 'Jayanagar ', value = 'Jayanagar', inplace = True)\n",
    "attempt_murder_db['Police Stion'].replace(to_replace = 'Basavanagudi ', value = 'Basavanagudi', inplace = True)\n",
    "attempt_murder_db['Police Stion'].replace(to_replace = 'J.P.nagar ', value = 'J P Nagar', inplace = True)\n",
    "attempt_murder_db['Police Stion'].replace(to_replace = 'Banashankari', value = 'Banashankari', inplace = True)\n",
    "attempt_murder_db['Police Stion'].replace(to_replace = 'BSK', value = 'Banashankari', inplace = True)\n",
    "attempt_murder_db['Police Stion'].replace(to_replace = 'Siddapura', value = 'Siddapura', inplace = True)\n",
    "attempt_murder_db['Police Stion'].replace(to_replace = 'Subramanyapura ', value = 'Subramanyapura', inplace = True)\n",
    "attempt_murder_db['Police Stion'].replace(to_replace = 'Thalaghtarapura', value = 'Thalaghtapura', inplace = True)\n",
    "attempt_murder_db['Police Stion'].replace(to_replace = 'konanakunte ps ', value = 'Konanakunte', inplace = True)\n",
    "attempt_murder_db['Police Stion'].replace(to_replace = 'Puttenahalli ', value = 'Puttenahalli', inplace = True)\n",
    "attempt_murder_db['Police Stion'].replace(to_replace = 'KS LAYOUT', value = 'K S Layout', inplace = True)\n",
    "attempt_murder_db['Police Stion'].replace(to_replace = 'GIRINAGAR PS', value = 'Girinagar', inplace = True)\n",
    "attempt_murder_db['Police Stion'].replace(to_replace = 'K.G. Nagar PS', value = 'K G Nagar', inplace = True)\n",
    "attempt_murder_db['Police Stion'].replace(to_replace = 'Shankarapura', value = 'Shankarapura', inplace = True)\n",
    "attempt_murder_db['Police Stion'].replace(to_replace = 'VV Puram', value = 'V V Puram', inplace = True)\n",
    "attempt_murder_db['Police Stion'].replace(to_replace = 'Hanumantha Nagar PS ', value = 'H Nagar', inplace = True)\n",
    "attempt_murder_db['Police Stion'].replace(to_replace = 'C.K. Achuktu', value = 'C K Acchuktu', inplace = True)"
   ]
  },
  {
   "cell_type": "code",
   "execution_count": 83,
   "id": "bf12f4ec-812b-42de-9eaa-4318c559e434",
   "metadata": {},
   "outputs": [],
   "source": [
    "attempt_murder_db['Police Stion'].unique()\n",
    "attempt_murder_db.to_excel('data_formatted/attempt_murder.xlsx')"
   ]
  },
  {
   "cell_type": "code",
   "execution_count": 84,
   "id": "a8628d0a-1ff1-4acc-b23e-9655904a45f4",
   "metadata": {},
   "outputs": [],
   "source": [
    "murder_db['Police Stion'].unique()\n",
    "murder_db.to_excel('data_formatted/murder.xlsx')"
   ]
  },
  {
   "cell_type": "code",
   "execution_count": 85,
   "id": "67ebcd2e-0f9c-4c5c-929f-27e67ef5ce86",
   "metadata": {},
   "outputs": [],
   "source": [
    "two_wheeler_db['Police Stion'].unique()\n",
    "two_wheeler_db.to_excel('data_formatted/two_wheeler_theft.xlsx')"
   ]
  },
  {
   "cell_type": "code",
   "execution_count": 86,
   "id": "85e0e259-a87b-4d7d-a073-d09d370fda3f",
   "metadata": {},
   "outputs": [],
   "source": [
    "four_wheeler_db['Police Station'].unique()\n",
    "four_wheeler_db.to_excel('data_formatted/four_wheeler_theft.xlsx')"
   ]
  },
  {
   "cell_type": "code",
   "execution_count": null,
   "id": "85065d32-6529-4dca-92d5-ac6e1a77f0f9",
   "metadata": {},
   "outputs": [],
   "source": []
  },
  {
   "cell_type": "code",
   "execution_count": null,
   "id": "5046cf52-1c71-4fcd-9890-2e61340b63a1",
   "metadata": {},
   "outputs": [],
   "source": []
  }
 ],
 "metadata": {
  "kernelspec": {
   "display_name": "Python 3",
   "language": "python",
   "name": "python3"
  },
  "language_info": {
   "codemirror_mode": {
    "name": "ipython",
    "version": 3
   },
   "file_extension": ".py",
   "mimetype": "text/x-python",
   "name": "python",
   "nbconvert_exporter": "python",
   "pygments_lexer": "ipython3",
   "version": "3.8.8"
  }
 },
 "nbformat": 4,
 "nbformat_minor": 5
}

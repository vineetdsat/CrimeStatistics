{
 "cells": [
  {
   "cell_type": "markdown",
   "id": "1a34cc8b-27e5-42dc-acf9-d5fce12b62f5",
   "metadata": {},
   "source": [
    "## Importing the Libraries"
   ]
  },
  {
   "cell_type": "code",
   "execution_count": 88,
   "id": "73ffd0ba-8376-4634-b953-dce480c5e070",
   "metadata": {},
   "outputs": [],
   "source": [
    "import pandas as pd"
   ]
  },
  {
   "cell_type": "markdown",
   "id": "f5d6323e-4392-4e35-b0e3-d753085a927b",
   "metadata": {},
   "source": [
    "### Adding all the Databbases, commented one out as it was not loading correctly "
   ]
  },
  {
   "cell_type": "code",
   "execution_count": 89,
   "id": "2c2d72ed-2dbd-4417-bd32-c75def724f07",
   "metadata": {},
   "outputs": [],
   "source": [
    "#murder_db = pd.read_excel('data/Murder.xlsx')\n",
    "#two_wheeler_db = pd.read_excel('data/2 Wheeler Theft.xlsx')\n",
    "#four_wheeler_db = pd.read_excel('data/4 Wheeler Theft.xlsx')\n",
    "#attempt_murder_db = pd.read_excel('data/307 IPC.xlsx')\n",
    "sexual_assault_db = pd.read_excel('data/376 IPC.xlsx')\n",
    "hurt_db = pd.read_excel('data/Hurt.xlsx')\n",
    "kidnap_db = pd.read_excel('data/Kidnap.xlsx')\n",
    "#ordinary_theft_db = pd.read_excel('data/Ordinary Theft.xlsx')\n",
    "robbery_db = pd.read_excel('data/Robbery.xlsx')\n",
    "chain_snatching_db = pd.read_excel('data/CS.xlsx')"
   ]
  },
  {
   "cell_type": "markdown",
   "id": "0c014759-3b6b-4811-bd90-22f4c4833b60",
   "metadata": {},
   "source": [
    "## Checking the added daatsets"
   ]
  },
  {
   "cell_type": "code",
   "execution_count": 48,
   "id": "2ea29e88-1a39-4099-97e6-9ed114a20b21",
   "metadata": {},
   "outputs": [
    {
     "data": {
      "text/html": [
       "<div>\n",
       "<style scoped>\n",
       "    .dataframe tbody tr th:only-of-type {\n",
       "        vertical-align: middle;\n",
       "    }\n",
       "\n",
       "    .dataframe tbody tr th {\n",
       "        vertical-align: top;\n",
       "    }\n",
       "\n",
       "    .dataframe thead th {\n",
       "        text-align: right;\n",
       "    }\n",
       "</style>\n",
       "<table border=\"1\" class=\"dataframe\">\n",
       "  <thead>\n",
       "    <tr style=\"text-align: right;\">\n",
       "      <th></th>\n",
       "      <th>Police Stion</th>\n",
       "      <th>Year</th>\n",
       "      <th>Type</th>\n",
       "      <th>Date</th>\n",
       "      <th>Time</th>\n",
       "      <th>Place of Occurrence</th>\n",
       "      <th>Lattitude</th>\n",
       "      <th>Longitude</th>\n",
       "    </tr>\n",
       "  </thead>\n",
       "  <tbody>\n",
       "    <tr>\n",
       "      <th>0</th>\n",
       "      <td>Jayanagar</td>\n",
       "      <td>2015.0</td>\n",
       "      <td>2 wheeler theft</td>\n",
       "      <td>2015-02-01 00:00:00</td>\n",
       "      <td>16:45:00</td>\n",
       "      <td>Surana college, South end road Basavanagudi</td>\n",
       "      <td>12.88605</td>\n",
       "      <td>77.494843</td>\n",
       "    </tr>\n",
       "    <tr>\n",
       "      <th>1</th>\n",
       "      <td>Jayanagar</td>\n",
       "      <td>2015.0</td>\n",
       "      <td>2 wheeler theft</td>\n",
       "      <td>2015-03-01 00:00:00</td>\n",
       "      <td>20:00:00</td>\n",
       "      <td>NO. 324, 10TH A MAIN 3RD BLOCK JAYANAGARA</td>\n",
       "      <td>12.915668</td>\n",
       "      <td>77.589662</td>\n",
       "    </tr>\n",
       "    <tr>\n",
       "      <th>2</th>\n",
       "      <td>Jayanagar</td>\n",
       "      <td>2015.0</td>\n",
       "      <td>2 wheeler theft</td>\n",
       "      <td>2015-04-01 00:00:00</td>\n",
       "      <td>17:30:00</td>\n",
       "      <td>INFRONTT OF NO.459/58,-1, S.R PLAZA, 2nd MAIN,...</td>\n",
       "      <td>12.926896</td>\n",
       "      <td>77.589654</td>\n",
       "    </tr>\n",
       "    <tr>\n",
       "      <th>3</th>\n",
       "      <td>Jayanagar</td>\n",
       "      <td>2015.0</td>\n",
       "      <td>2 wheeler theft</td>\n",
       "      <td>2015-05-01 00:00:00</td>\n",
       "      <td>19:45:00</td>\n",
       "      <td>INFRONT OF NO.168/3, 26th CROSS, 2nd D. MAIN,6...</td>\n",
       "      <td>12.9184</td>\n",
       "      <td>77.58268</td>\n",
       "    </tr>\n",
       "    <tr>\n",
       "      <th>4</th>\n",
       "      <td>Jayanagar</td>\n",
       "      <td>2015.0</td>\n",
       "      <td>2 wheeler theft</td>\n",
       "      <td>2015-06-01 00:00:00</td>\n",
       "      <td>19:45:00</td>\n",
       "      <td>INFRONT OF 19-19/1, SOUTHEND ROAD,BASAVANAGUDI</td>\n",
       "      <td>12.923665</td>\n",
       "      <td>77.589668</td>\n",
       "    </tr>\n",
       "  </tbody>\n",
       "</table>\n",
       "</div>"
      ],
      "text/plain": [
       "  Police Stion    Year             Type                 Date      Time  \\\n",
       "0    Jayanagar  2015.0  2 wheeler theft  2015-02-01 00:00:00  16:45:00   \n",
       "1    Jayanagar  2015.0  2 wheeler theft  2015-03-01 00:00:00  20:00:00   \n",
       "2    Jayanagar  2015.0  2 wheeler theft  2015-04-01 00:00:00  17:30:00   \n",
       "3    Jayanagar  2015.0  2 wheeler theft  2015-05-01 00:00:00  19:45:00   \n",
       "4    Jayanagar  2015.0  2 wheeler theft  2015-06-01 00:00:00  19:45:00   \n",
       "\n",
       "                                 Place of Occurrence  Lattitude  Longitude  \n",
       "0        Surana college, South end road Basavanagudi   12.88605  77.494843  \n",
       "1          NO. 324, 10TH A MAIN 3RD BLOCK JAYANAGARA  12.915668  77.589662  \n",
       "2  INFRONTT OF NO.459/58,-1, S.R PLAZA, 2nd MAIN,...  12.926896  77.589654  \n",
       "3  INFRONT OF NO.168/3, 26th CROSS, 2nd D. MAIN,6...    12.9184   77.58268  \n",
       "4     INFRONT OF 19-19/1, SOUTHEND ROAD,BASAVANAGUDI  12.923665  77.589668  "
      ]
     },
     "execution_count": 48,
     "metadata": {},
     "output_type": "execute_result"
    }
   ],
   "source": [
    "two_wWheeler_db.head()"
   ]
  },
  {
   "cell_type": "markdown",
   "id": "cb040e7f-487f-42a6-999b-0654a0423abd",
   "metadata": {},
   "source": [
    "## Removing the Serial Number Column from every Data set"
   ]
  },
  {
   "cell_type": "code",
   "execution_count": 102,
   "id": "94b55d8e-9d6a-445f-a385-5c6ea4264ce0",
   "metadata": {},
   "outputs": [],
   "source": [
    "#murder_db.drop('Sl.No', axis = 1, inplace = True)\n",
    "#two_wheeler_db.drop('Sl.No', axis = 1, inplace = True)\n",
    "#four_wheeler_db.drop('Sl.No', axis = 1, inplace = True)\n",
    "#attempt_murder_db.drop('Sl.No', axis = 1, inplace = True)\n",
    "sexual_assault_db.drop('Sl.No', axis = 1, inplace = True)\n",
    "hurt_db.drop('Sl.No', axis = 1, inplace = True)\n",
    "kidnap_db.drop('Sl.No', axis = 1, inplace = True)\n",
    "robbery_db.drop('Sl.No', axis = 1, inplace = True)\n",
    "chain_snatching_db.drop('Sl.No', axis = 1, inplace = True)"
   ]
  },
  {
   "cell_type": "markdown",
   "id": "1c8a3ad4-5ee2-4cdc-8af0-1f9839b30c3f",
   "metadata": {},
   "source": [
    "### The Above tableas 3 of the Data sets have an unwanted Column called as Unnamed: 9..... now we need to Remove that"
   ]
  },
  {
   "cell_type": "code",
   "execution_count": 99,
   "id": "d07ffab5-ee3e-4a52-97ee-8b2c0b7e7128",
   "metadata": {},
   "outputs": [],
   "source": [
    "robbery_db.drop('Unnamed: 9', axis = 1, inplace = True)"
   ]
  },
  {
   "cell_type": "code",
   "execution_count": 104,
   "id": "fe5e4201-7de1-43e3-8a56-7f8ef62e8242",
   "metadata": {},
   "outputs": [
    {
     "data": {
      "text/html": [
       "<div>\n",
       "<style scoped>\n",
       "    .dataframe tbody tr th:only-of-type {\n",
       "        vertical-align: middle;\n",
       "    }\n",
       "\n",
       "    .dataframe tbody tr th {\n",
       "        vertical-align: top;\n",
       "    }\n",
       "\n",
       "    .dataframe thead th {\n",
       "        text-align: right;\n",
       "    }\n",
       "</style>\n",
       "<table border=\"1\" class=\"dataframe\">\n",
       "  <thead>\n",
       "    <tr style=\"text-align: right;\">\n",
       "      <th></th>\n",
       "      <th>Unnamed: 0</th>\n",
       "      <th>Police Stion</th>\n",
       "      <th>Year</th>\n",
       "      <th>Type</th>\n",
       "      <th>Date</th>\n",
       "      <th>Time</th>\n",
       "      <th>Place of Occurrence</th>\n",
       "      <th>Latitude</th>\n",
       "      <th>Longitude</th>\n",
       "    </tr>\n",
       "  </thead>\n",
       "  <tbody>\n",
       "    <tr>\n",
       "      <th>0</th>\n",
       "      <td>0</td>\n",
       "      <td>Jayanagar</td>\n",
       "      <td>2016</td>\n",
       "      <td>Murder</td>\n",
       "      <td>29/07/2016</td>\n",
       "      <td>21:00:00</td>\n",
       "      <td>22nd Cross, Jayanagara 6th Block Bangalore</td>\n",
       "      <td>12.93297</td>\n",
       "      <td>77.58381</td>\n",
       "    </tr>\n",
       "    <tr>\n",
       "      <th>1</th>\n",
       "      <td>1</td>\n",
       "      <td>Jayanagar</td>\n",
       "      <td>2016</td>\n",
       "      <td>Murder</td>\n",
       "      <td>13/11/2016</td>\n",
       "      <td>23:45:00</td>\n",
       "      <td>On the Road of 30th Cross, Opp Vinayaka textti...</td>\n",
       "      <td>12.930433</td>\n",
       "      <td>77.549761</td>\n",
       "    </tr>\n",
       "    <tr>\n",
       "      <th>2</th>\n",
       "      <td>2</td>\n",
       "      <td>Jayanagar</td>\n",
       "      <td>2017</td>\n",
       "      <td>Murder</td>\n",
       "      <td>2017-10-05 00:00:00</td>\n",
       "      <td>21:00:00</td>\n",
       "      <td>No. 282, 36th Cross Jayanagara 7th Block Banga...</td>\n",
       "      <td>12.923736</td>\n",
       "      <td>77.58182</td>\n",
       "    </tr>\n",
       "    <tr>\n",
       "      <th>3</th>\n",
       "      <td>3</td>\n",
       "      <td>Jayanagar</td>\n",
       "      <td>2017</td>\n",
       "      <td>Murder</td>\n",
       "      <td>19/07/2017</td>\n",
       "      <td>19:30:00</td>\n",
       "      <td>Near Transfaram, Opp Amejan, Kanakapura Main R...</td>\n",
       "      <td>12.924123</td>\n",
       "      <td>77.576913</td>\n",
       "    </tr>\n",
       "    <tr>\n",
       "      <th>4</th>\n",
       "      <td>4</td>\n",
       "      <td>Jayanagar</td>\n",
       "      <td>2018</td>\n",
       "      <td>Murder</td>\n",
       "      <td>21/06/2018</td>\n",
       "      <td>23:30:00</td>\n",
       "      <td>No. 53, 2nd Floor, 8th Main 4th Block Jayanaga...</td>\n",
       "      <td>12.924377</td>\n",
       "      <td>77.582729</td>\n",
       "    </tr>\n",
       "  </tbody>\n",
       "</table>\n",
       "</div>"
      ],
      "text/plain": [
       "   Unnamed: 0 Police Stion  Year    Type                 Date      Time  \\\n",
       "0           0    Jayanagar  2016  Murder           29/07/2016  21:00:00   \n",
       "1           1    Jayanagar  2016  Murder           13/11/2016  23:45:00   \n",
       "2           2    Jayanagar  2017  Murder  2017-10-05 00:00:00  21:00:00   \n",
       "3           3    Jayanagar  2017  Murder           19/07/2017  19:30:00   \n",
       "4           4    Jayanagar  2018  Murder           21/06/2018  23:30:00   \n",
       "\n",
       "                                 Place of Occurrence   Latitude Longitude   \n",
       "0         22nd Cross, Jayanagara 6th Block Bangalore   12.93297   77.58381  \n",
       "1  On the Road of 30th Cross, Opp Vinayaka textti...  12.930433  77.549761  \n",
       "2  No. 282, 36th Cross Jayanagara 7th Block Banga...  12.923736   77.58182  \n",
       "3  Near Transfaram, Opp Amejan, Kanakapura Main R...  12.924123  77.576913  \n",
       "4  No. 53, 2nd Floor, 8th Main 4th Block Jayanaga...  12.924377  77.582729  "
      ]
     },
     "execution_count": 104,
     "metadata": {},
     "output_type": "execute_result"
    }
   ],
   "source": [
    "murder_db.head()"
   ]
  },
  {
   "cell_type": "code",
   "execution_count": 103,
   "id": "309e640b-40ec-4dea-bd58-4bc3b642c0f0",
   "metadata": {},
   "outputs": [
    {
     "data": {
      "text/html": [
       "<div>\n",
       "<style scoped>\n",
       "    .dataframe tbody tr th:only-of-type {\n",
       "        vertical-align: middle;\n",
       "    }\n",
       "\n",
       "    .dataframe tbody tr th {\n",
       "        vertical-align: top;\n",
       "    }\n",
       "\n",
       "    .dataframe thead th {\n",
       "        text-align: right;\n",
       "    }\n",
       "</style>\n",
       "<table border=\"1\" class=\"dataframe\">\n",
       "  <thead>\n",
       "    <tr style=\"text-align: right;\">\n",
       "      <th></th>\n",
       "      <th>Police Station</th>\n",
       "      <th>Year</th>\n",
       "      <th>Type</th>\n",
       "      <th>Report Date</th>\n",
       "      <th>Time</th>\n",
       "      <th>Place of Occurrence</th>\n",
       "      <th>Latitude</th>\n",
       "      <th>Longitude</th>\n",
       "    </tr>\n",
       "  </thead>\n",
       "  <tbody>\n",
       "    <tr>\n",
       "      <th>0</th>\n",
       "      <td>Jayanagar PS</td>\n",
       "      <td>2015</td>\n",
       "      <td>Rape</td>\n",
       "      <td>2015-02-06 10:50:00</td>\n",
       "      <td>NaN</td>\n",
       "      <td>Rose Garden Park or Lakshmanarao Park,Near Jay...</td>\n",
       "      <td>12.94197</td>\n",
       "      <td>77.50588</td>\n",
       "    </tr>\n",
       "    <tr>\n",
       "      <th>1</th>\n",
       "      <td>Jayanagar PS</td>\n",
       "      <td>2017</td>\n",
       "      <td>Rape</td>\n",
       "      <td>26/10/2017</td>\n",
       "      <td>14:00:00</td>\n",
       "      <td>The President Hotel, Elephant Rock Road, 3rd B...</td>\n",
       "      <td>12.933274</td>\n",
       "      <td>77.583281</td>\n",
       "    </tr>\n",
       "    <tr>\n",
       "      <th>2</th>\n",
       "      <td>Jayanagar PS</td>\n",
       "      <td>2017</td>\n",
       "      <td>Rape</td>\n",
       "      <td>26/12/2017</td>\n",
       "      <td>20:00:00</td>\n",
       "      <td>No-2, 17th Main, Srinidhi Layout,, Konanakunte...</td>\n",
       "      <td>12.888238</td>\n",
       "      <td>77.569679</td>\n",
       "    </tr>\n",
       "    <tr>\n",
       "      <th>3</th>\n",
       "      <td>Basavanagudi</td>\n",
       "      <td>2015</td>\n",
       "      <td>Rape</td>\n",
       "      <td>30/10/2015</td>\n",
       "      <td>13:30:00</td>\n",
       "      <td>NO.01, Subbaram Chetty Road,Basavanagudi , Ban...</td>\n",
       "      <td>12.939824</td>\n",
       "      <td>77.57269</td>\n",
       "    </tr>\n",
       "    <tr>\n",
       "      <th>4</th>\n",
       "      <td>Basavanagudi</td>\n",
       "      <td>2019</td>\n",
       "      <td>Rape</td>\n",
       "      <td>2019-09-04 00:00:00</td>\n",
       "      <td>NaN</td>\n",
       "      <td>Tirinity hospital, near SRS petrol bunk, Basav...</td>\n",
       "      <td>12.943541</td>\n",
       "      <td>77.57964</td>\n",
       "    </tr>\n",
       "  </tbody>\n",
       "</table>\n",
       "</div>"
      ],
      "text/plain": [
       "  Police Station  Year  Type          Report Date      Time  \\\n",
       "0   Jayanagar PS  2015  Rape  2015-02-06 10:50:00       NaN   \n",
       "1   Jayanagar PS  2017  Rape           26/10/2017  14:00:00   \n",
       "2   Jayanagar PS  2017  Rape           26/12/2017  20:00:00   \n",
       "3   Basavanagudi  2015  Rape           30/10/2015  13:30:00   \n",
       "4   Basavanagudi  2019  Rape  2019-09-04 00:00:00       NaN   \n",
       "\n",
       "                                 Place of Occurrence   Latitude  Longitude  \n",
       "0  Rose Garden Park or Lakshmanarao Park,Near Jay...   12.94197   77.50588  \n",
       "1  The President Hotel, Elephant Rock Road, 3rd B...  12.933274  77.583281  \n",
       "2  No-2, 17th Main, Srinidhi Layout,, Konanakunte...  12.888238  77.569679  \n",
       "3  NO.01, Subbaram Chetty Road,Basavanagudi , Ban...  12.939824   77.57269  \n",
       "4  Tirinity hospital, near SRS petrol bunk, Basav...  12.943541   77.57964  "
      ]
     },
     "execution_count": 103,
     "metadata": {},
     "output_type": "execute_result"
    }
   ],
   "source": [
    "sexual_assault_db.head()"
   ]
  },
  {
   "cell_type": "code",
   "execution_count": 107,
   "id": "8e2b44cf-3918-4490-b262-25087beae3a7",
   "metadata": {},
   "outputs": [
    {
     "data": {
      "text/plain": [
       "array(['Jayanagar', 'Basavanagudi', 'J P Nagar', 'Banashankari',\n",
       "       'Siddapura', 'Subramanyapura', 'Thalaghtapura', 'Konanakunte',\n",
       "       'Puttenahalli', 'K S Layout', 'Girinagar', 'K G Nagar',\n",
       "       'Shankarapura', 'H Nagar', 'C K Acchuktu'], dtype=object)"
      ]
     },
     "execution_count": 107,
     "metadata": {},
     "output_type": "execute_result"
    }
   ],
   "source": []
  },
  {
   "cell_type": "code",
   "execution_count": 109,
   "id": "1faf0fb8-a5ba-4ced-9dc0-bb6568be0002",
   "metadata": {},
   "outputs": [],
   "source": [
    "attempt_murder_db['Police Stion'].replace(to_replace = 'Siddapura ', value = 'Siddapura', inplace = True)\n"
   ]
  },
  {
   "cell_type": "code",
   "execution_count": 112,
   "id": "c7fb12a2-f259-40a4-857f-3a64d5eddd60",
   "metadata": {},
   "outputs": [],
   "source": [
    "sexual_assault_db['Police Station'].unique()\n",
    "sexual_assault_db.to_excel('Cleaned_Data/sexual_assault.xlsx')"
   ]
  },
  {
   "cell_type": "code",
   "execution_count": 110,
   "id": "bf12f4ec-812b-42de-9eaa-4318c559e434",
   "metadata": {},
   "outputs": [
    {
     "data": {
      "text/plain": [
       "array(['Jayanagar', 'Basavanagudi', 'J P Nagar', 'Banashankari',\n",
       "       'Siddapura', 'Subramanyapura', 'Thalaghtapura', 'Konanakunte',\n",
       "       'Puttenahalli', 'K S Layout', 'Girinagar', 'K G Nagar',\n",
       "       'Shankarapura', 'V V Puram', 'H Nagar', 'C K Acchuktu'],\n",
       "      dtype=object)"
      ]
     },
     "execution_count": 110,
     "metadata": {},
     "output_type": "execute_result"
    }
   ],
   "source": [
    "attempt_murder_db['Police Stion'].unique()\n"
   ]
  },
  {
   "cell_type": "code",
   "execution_count": 94,
   "id": "a8628d0a-1ff1-4acc-b23e-9655904a45f4",
   "metadata": {},
   "outputs": [
    {
     "data": {
      "text/plain": [
       "array(['Jayanagar', 'Basavanagudi', 'J P Nagar', 'Banashankari',\n",
       "       'Siddapura', 'Subramanyapura', 'Thalaghtapura', 'Konanakunte',\n",
       "       'Puttenahalli', 'K S Layout', 'Ramakrishnanagar', 'Chandranagar',\n",
       "       'Bendrenagar', 'Kashinagar', 'Yelachenahalli', 'Praghipura',\n",
       "       'Kadirenahalli', 'Uttarahalli', 'Iliyasnagar', 'Girinagar',\n",
       "       'K G Nagar', 'V V Puram', 'H Nagar', 'C K Acchuktu'], dtype=object)"
      ]
     },
     "execution_count": 94,
     "metadata": {},
     "output_type": "execute_result"
    }
   ],
   "source": [
    "murder_db['Police Stion'].unique()\n"
   ]
  },
  {
   "cell_type": "code",
   "execution_count": 95,
   "id": "67ebcd2e-0f9c-4c5c-929f-27e67ef5ce86",
   "metadata": {},
   "outputs": [
    {
     "data": {
      "text/plain": [
       "array(['Jayanagar', 'Basavanagudi', 'J P Nagar', 'Banashankari',\n",
       "       'Siddapura', 'Subramanyapura', 'Thalaghtapura', 'Konanakunte',\n",
       "       'Puttenahalli', 'K S Layout', 'Girinagar', 'K G Nagar',\n",
       "       'Shankarapura', 'V V Puram', 'H Nagar', 'C K Acchuktu'],\n",
       "      dtype=object)"
      ]
     },
     "execution_count": 95,
     "metadata": {},
     "output_type": "execute_result"
    }
   ],
   "source": [
    "two_wheeler_db['Police Stion'].unique()\n"
   ]
  },
  {
   "cell_type": "code",
   "execution_count": 96,
   "id": "85e0e259-a87b-4d7d-a073-d09d370fda3f",
   "metadata": {},
   "outputs": [
    {
     "data": {
      "text/plain": [
       "array(['Jayanagar', 'Basavanagudi', 'J P Nagar', 'Banashankari',\n",
       "       'Siddapura', 'Subramanyapura', 'Thalaghtapura', 'Konanakunte',\n",
       "       'Puttenahalli', 'K S Layout', 'Girinagar', 'K G Nagar',\n",
       "       'Shankarapura', 'V V Puram', 'H Nagar', 'C K Acchuktu'],\n",
       "      dtype=object)"
      ]
     },
     "execution_count": 96,
     "metadata": {},
     "output_type": "execute_result"
    }
   ],
   "source": [
    "four_wheeler_db['Police Station'].unique()\n"
   ]
  },
  {
   "cell_type": "markdown",
   "id": "bbac5898-195a-45bc-80b7-af18956e11d2",
   "metadata": {},
   "source": [
    "## Adding the Cleaned Data"
   ]
  },
  {
   "cell_type": "code",
   "execution_count": 91,
   "id": "5046cf52-1c71-4fcd-9890-2e61340b63a1",
   "metadata": {},
   "outputs": [],
   "source": [
    "murder_db = pd.read_excel('Cleaned_Data/murder.xlsx')\n",
    "two_wheeler_db = pd.read_excel('Cleaned_Data/two_wheeler_theft.xlsx')\n",
    "four_wheeler_db = pd.read_excel('Cleaned_Data/four_wheeler_theft.xlsx')\n",
    "attempt_murder_db = pd.read_excel('Cleaned_Data/attempt_murder.xlsx')"
   ]
  },
  {
   "cell_type": "code",
   "execution_count": null,
   "id": "8f9ca5b6-a750-48a2-9858-799f2e4e810c",
   "metadata": {},
   "outputs": [],
   "source": [
    "four_wheeler_db.to_excel('data_formatted/four_wheeler_theft.xlsx')"
   ]
  }
 ],
 "metadata": {
  "kernelspec": {
   "display_name": "Python 3",
   "language": "python",
   "name": "python3"
  },
  "language_info": {
   "codemirror_mode": {
    "name": "ipython",
    "version": 3
   },
   "file_extension": ".py",
   "mimetype": "text/x-python",
   "name": "python",
   "nbconvert_exporter": "python",
   "pygments_lexer": "ipython3",
   "version": "3.8.8"
  }
 },
 "nbformat": 4,
 "nbformat_minor": 5
}

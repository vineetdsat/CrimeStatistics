{
 "cells": [
  {
   "cell_type": "markdown",
   "id": "1a34cc8b-27e5-42dc-acf9-d5fce12b62f5",
   "metadata": {},
   "source": [
    "## Importing the Libraries"
   ]
  },
  {
   "cell_type": "code",
   "execution_count": 186,
   "id": "73ffd0ba-8376-4634-b953-dce480c5e070",
   "metadata": {},
   "outputs": [],
   "source": [
    "import pandas as pd\n",
    "import numpy as np"
   ]
  },
  {
   "cell_type": "markdown",
   "id": "f5d6323e-4392-4e35-b0e3-d753085a927b",
   "metadata": {},
   "source": [
    "### Adding all the Databbases, commented one out as it was not loading correctly "
   ]
  },
  {
   "cell_type": "code",
   "execution_count": 89,
   "id": "2c2d72ed-2dbd-4417-bd32-c75def724f07",
   "metadata": {},
   "outputs": [],
   "source": [
    "murder_db = pd.read_excel('data/Murder.xlsx')\n",
    "two_wheeler_db = pd.read_excel('data/2 Wheeler Theft.xlsx')\n",
    "four_wheeler_db = pd.read_excel('data/4 Wheeler Theft.xlsx')\n",
    "attempt_murder_db = pd.read_excel('data/307 IPC.xlsx')\n",
    "sexual_assault_db = pd.read_excel('data/376 IPC.xlsx')\n",
    "hurt_db = pd.read_excel('data/Hurt.xlsx')\n",
    "kidnap_db = pd.read_excel('data/Kidnap.xlsx')\n",
    "#ordinary_theft_db = pd.read_excel('data/Ordinary Theft.xlsx')\n",
    "robbery_db = pd.read_excel('data/Robbery.xlsx')\n",
    "chain_snatching_db = pd.read_excel('data/CS.xlsx')"
   ]
  },
  {
   "cell_type": "markdown",
   "id": "0c014759-3b6b-4811-bd90-22f4c4833b60",
   "metadata": {},
   "source": [
    "## Checking the added daatsets"
   ]
  },
  {
   "cell_type": "code",
   "execution_count": 48,
   "id": "2ea29e88-1a39-4099-97e6-9ed114a20b21",
   "metadata": {},
   "outputs": [
    {
     "data": {
      "text/html": [
       "<div>\n",
       "<style scoped>\n",
       "    .dataframe tbody tr th:only-of-type {\n",
       "        vertical-align: middle;\n",
       "    }\n",
       "\n",
       "    .dataframe tbody tr th {\n",
       "        vertical-align: top;\n",
       "    }\n",
       "\n",
       "    .dataframe thead th {\n",
       "        text-align: right;\n",
       "    }\n",
       "</style>\n",
       "<table border=\"1\" class=\"dataframe\">\n",
       "  <thead>\n",
       "    <tr style=\"text-align: right;\">\n",
       "      <th></th>\n",
       "      <th>Police Stion</th>\n",
       "      <th>Year</th>\n",
       "      <th>Type</th>\n",
       "      <th>Date</th>\n",
       "      <th>Time</th>\n",
       "      <th>Place of Occurrence</th>\n",
       "      <th>Lattitude</th>\n",
       "      <th>Longitude</th>\n",
       "    </tr>\n",
       "  </thead>\n",
       "  <tbody>\n",
       "    <tr>\n",
       "      <th>0</th>\n",
       "      <td>Jayanagar</td>\n",
       "      <td>2015.0</td>\n",
       "      <td>2 wheeler theft</td>\n",
       "      <td>2015-02-01 00:00:00</td>\n",
       "      <td>16:45:00</td>\n",
       "      <td>Surana college, South end road Basavanagudi</td>\n",
       "      <td>12.88605</td>\n",
       "      <td>77.494843</td>\n",
       "    </tr>\n",
       "    <tr>\n",
       "      <th>1</th>\n",
       "      <td>Jayanagar</td>\n",
       "      <td>2015.0</td>\n",
       "      <td>2 wheeler theft</td>\n",
       "      <td>2015-03-01 00:00:00</td>\n",
       "      <td>20:00:00</td>\n",
       "      <td>NO. 324, 10TH A MAIN 3RD BLOCK JAYANAGARA</td>\n",
       "      <td>12.915668</td>\n",
       "      <td>77.589662</td>\n",
       "    </tr>\n",
       "    <tr>\n",
       "      <th>2</th>\n",
       "      <td>Jayanagar</td>\n",
       "      <td>2015.0</td>\n",
       "      <td>2 wheeler theft</td>\n",
       "      <td>2015-04-01 00:00:00</td>\n",
       "      <td>17:30:00</td>\n",
       "      <td>INFRONTT OF NO.459/58,-1, S.R PLAZA, 2nd MAIN,...</td>\n",
       "      <td>12.926896</td>\n",
       "      <td>77.589654</td>\n",
       "    </tr>\n",
       "    <tr>\n",
       "      <th>3</th>\n",
       "      <td>Jayanagar</td>\n",
       "      <td>2015.0</td>\n",
       "      <td>2 wheeler theft</td>\n",
       "      <td>2015-05-01 00:00:00</td>\n",
       "      <td>19:45:00</td>\n",
       "      <td>INFRONT OF NO.168/3, 26th CROSS, 2nd D. MAIN,6...</td>\n",
       "      <td>12.9184</td>\n",
       "      <td>77.58268</td>\n",
       "    </tr>\n",
       "    <tr>\n",
       "      <th>4</th>\n",
       "      <td>Jayanagar</td>\n",
       "      <td>2015.0</td>\n",
       "      <td>2 wheeler theft</td>\n",
       "      <td>2015-06-01 00:00:00</td>\n",
       "      <td>19:45:00</td>\n",
       "      <td>INFRONT OF 19-19/1, SOUTHEND ROAD,BASAVANAGUDI</td>\n",
       "      <td>12.923665</td>\n",
       "      <td>77.589668</td>\n",
       "    </tr>\n",
       "  </tbody>\n",
       "</table>\n",
       "</div>"
      ],
      "text/plain": [
       "  Police Stion    Year             Type                 Date      Time  \\\n",
       "0    Jayanagar  2015.0  2 wheeler theft  2015-02-01 00:00:00  16:45:00   \n",
       "1    Jayanagar  2015.0  2 wheeler theft  2015-03-01 00:00:00  20:00:00   \n",
       "2    Jayanagar  2015.0  2 wheeler theft  2015-04-01 00:00:00  17:30:00   \n",
       "3    Jayanagar  2015.0  2 wheeler theft  2015-05-01 00:00:00  19:45:00   \n",
       "4    Jayanagar  2015.0  2 wheeler theft  2015-06-01 00:00:00  19:45:00   \n",
       "\n",
       "                                 Place of Occurrence  Lattitude  Longitude  \n",
       "0        Surana college, South end road Basavanagudi   12.88605  77.494843  \n",
       "1          NO. 324, 10TH A MAIN 3RD BLOCK JAYANAGARA  12.915668  77.589662  \n",
       "2  INFRONTT OF NO.459/58,-1, S.R PLAZA, 2nd MAIN,...  12.926896  77.589654  \n",
       "3  INFRONT OF NO.168/3, 26th CROSS, 2nd D. MAIN,6...    12.9184   77.58268  \n",
       "4     INFRONT OF 19-19/1, SOUTHEND ROAD,BASAVANAGUDI  12.923665  77.589668  "
      ]
     },
     "execution_count": 48,
     "metadata": {},
     "output_type": "execute_result"
    }
   ],
   "source": [
    "two_wWheeler_db.head()"
   ]
  },
  {
   "cell_type": "markdown",
   "id": "cb040e7f-487f-42a6-999b-0654a0423abd",
   "metadata": {},
   "source": [
    "## Removing the Serial Number Column from every Data set"
   ]
  },
  {
   "cell_type": "code",
   "execution_count": 102,
   "id": "94b55d8e-9d6a-445f-a385-5c6ea4264ce0",
   "metadata": {},
   "outputs": [],
   "source": [
    "murder_db.drop('Sl.No', axis = 1, inplace = True)\n",
    "two_wheeler_db.drop('Sl.No', axis = 1, inplace = True)\n",
    "four_wheeler_db.drop('Sl.No', axis = 1, inplace = True)\n",
    "attempt_murder_db.drop('Sl.No', axis = 1, inplace = True)\n",
    "sexual_assault_db.drop('Sl.No', axis = 1, inplace = True)\n",
    "hurt_db.drop('Sl.No', axis = 1, inplace = True)\n",
    "kidnap_db.drop('Sl.No', axis = 1, inplace = True)\n",
    "robbery_db.drop('Sl.No', axis = 1, inplace = True)\n",
    "chain_snatching_db.drop('Sl.No', axis = 1, inplace = True)"
   ]
  },
  {
   "cell_type": "markdown",
   "id": "1c8a3ad4-5ee2-4cdc-8af0-1f9839b30c3f",
   "metadata": {},
   "source": [
    "### The Above tableas 3 of the Data sets have an unwanted Column called as Unnamed: 9..... now we need to Remove that"
   ]
  },
  {
   "cell_type": "code",
   "execution_count": 99,
   "id": "d07ffab5-ee3e-4a52-97ee-8b2c0b7e7128",
   "metadata": {},
   "outputs": [],
   "source": [
    "robbery_db.drop('Unnamed: 9', axis = 1, inplace = True)"
   ]
  },
  {
   "cell_type": "code",
   "execution_count": 104,
   "id": "fe5e4201-7de1-43e3-8a56-7f8ef62e8242",
   "metadata": {},
   "outputs": [
    {
     "data": {
      "text/html": [
       "<div>\n",
       "<style scoped>\n",
       "    .dataframe tbody tr th:only-of-type {\n",
       "        vertical-align: middle;\n",
       "    }\n",
       "\n",
       "    .dataframe tbody tr th {\n",
       "        vertical-align: top;\n",
       "    }\n",
       "\n",
       "    .dataframe thead th {\n",
       "        text-align: right;\n",
       "    }\n",
       "</style>\n",
       "<table border=\"1\" class=\"dataframe\">\n",
       "  <thead>\n",
       "    <tr style=\"text-align: right;\">\n",
       "      <th></th>\n",
       "      <th>Unnamed: 0</th>\n",
       "      <th>Police Stion</th>\n",
       "      <th>Year</th>\n",
       "      <th>Type</th>\n",
       "      <th>Date</th>\n",
       "      <th>Time</th>\n",
       "      <th>Place of Occurrence</th>\n",
       "      <th>Latitude</th>\n",
       "      <th>Longitude</th>\n",
       "    </tr>\n",
       "  </thead>\n",
       "  <tbody>\n",
       "    <tr>\n",
       "      <th>0</th>\n",
       "      <td>0</td>\n",
       "      <td>Jayanagar</td>\n",
       "      <td>2016</td>\n",
       "      <td>Murder</td>\n",
       "      <td>29/07/2016</td>\n",
       "      <td>21:00:00</td>\n",
       "      <td>22nd Cross, Jayanagara 6th Block Bangalore</td>\n",
       "      <td>12.93297</td>\n",
       "      <td>77.58381</td>\n",
       "    </tr>\n",
       "    <tr>\n",
       "      <th>1</th>\n",
       "      <td>1</td>\n",
       "      <td>Jayanagar</td>\n",
       "      <td>2016</td>\n",
       "      <td>Murder</td>\n",
       "      <td>13/11/2016</td>\n",
       "      <td>23:45:00</td>\n",
       "      <td>On the Road of 30th Cross, Opp Vinayaka textti...</td>\n",
       "      <td>12.930433</td>\n",
       "      <td>77.549761</td>\n",
       "    </tr>\n",
       "    <tr>\n",
       "      <th>2</th>\n",
       "      <td>2</td>\n",
       "      <td>Jayanagar</td>\n",
       "      <td>2017</td>\n",
       "      <td>Murder</td>\n",
       "      <td>2017-10-05 00:00:00</td>\n",
       "      <td>21:00:00</td>\n",
       "      <td>No. 282, 36th Cross Jayanagara 7th Block Banga...</td>\n",
       "      <td>12.923736</td>\n",
       "      <td>77.58182</td>\n",
       "    </tr>\n",
       "    <tr>\n",
       "      <th>3</th>\n",
       "      <td>3</td>\n",
       "      <td>Jayanagar</td>\n",
       "      <td>2017</td>\n",
       "      <td>Murder</td>\n",
       "      <td>19/07/2017</td>\n",
       "      <td>19:30:00</td>\n",
       "      <td>Near Transfaram, Opp Amejan, Kanakapura Main R...</td>\n",
       "      <td>12.924123</td>\n",
       "      <td>77.576913</td>\n",
       "    </tr>\n",
       "    <tr>\n",
       "      <th>4</th>\n",
       "      <td>4</td>\n",
       "      <td>Jayanagar</td>\n",
       "      <td>2018</td>\n",
       "      <td>Murder</td>\n",
       "      <td>21/06/2018</td>\n",
       "      <td>23:30:00</td>\n",
       "      <td>No. 53, 2nd Floor, 8th Main 4th Block Jayanaga...</td>\n",
       "      <td>12.924377</td>\n",
       "      <td>77.582729</td>\n",
       "    </tr>\n",
       "  </tbody>\n",
       "</table>\n",
       "</div>"
      ],
      "text/plain": [
       "   Unnamed: 0 Police Stion  Year    Type                 Date      Time  \\\n",
       "0           0    Jayanagar  2016  Murder           29/07/2016  21:00:00   \n",
       "1           1    Jayanagar  2016  Murder           13/11/2016  23:45:00   \n",
       "2           2    Jayanagar  2017  Murder  2017-10-05 00:00:00  21:00:00   \n",
       "3           3    Jayanagar  2017  Murder           19/07/2017  19:30:00   \n",
       "4           4    Jayanagar  2018  Murder           21/06/2018  23:30:00   \n",
       "\n",
       "                                 Place of Occurrence   Latitude Longitude   \n",
       "0         22nd Cross, Jayanagara 6th Block Bangalore   12.93297   77.58381  \n",
       "1  On the Road of 30th Cross, Opp Vinayaka textti...  12.930433  77.549761  \n",
       "2  No. 282, 36th Cross Jayanagara 7th Block Banga...  12.923736   77.58182  \n",
       "3  Near Transfaram, Opp Amejan, Kanakapura Main R...  12.924123  77.576913  \n",
       "4  No. 53, 2nd Floor, 8th Main 4th Block Jayanaga...  12.924377  77.582729  "
      ]
     },
     "execution_count": 104,
     "metadata": {},
     "output_type": "execute_result"
    }
   ],
   "source": [
    "murder_db.head()"
   ]
  },
  {
   "cell_type": "code",
   "execution_count": 128,
   "id": "309e640b-40ec-4dea-bd58-4bc3b642c0f0",
   "metadata": {},
   "outputs": [
    {
     "data": {
      "text/html": [
       "<div>\n",
       "<style scoped>\n",
       "    .dataframe tbody tr th:only-of-type {\n",
       "        vertical-align: middle;\n",
       "    }\n",
       "\n",
       "    .dataframe tbody tr th {\n",
       "        vertical-align: top;\n",
       "    }\n",
       "\n",
       "    .dataframe thead th {\n",
       "        text-align: right;\n",
       "    }\n",
       "</style>\n",
       "<table border=\"1\" class=\"dataframe\">\n",
       "  <thead>\n",
       "    <tr style=\"text-align: right;\">\n",
       "      <th></th>\n",
       "      <th>Police Stion</th>\n",
       "      <th>Year</th>\n",
       "      <th>Type</th>\n",
       "      <th>Date</th>\n",
       "      <th>Time</th>\n",
       "      <th>Place of Occurrence</th>\n",
       "      <th>Lattitude</th>\n",
       "      <th>Longitude</th>\n",
       "    </tr>\n",
       "  </thead>\n",
       "  <tbody>\n",
       "    <tr>\n",
       "      <th>0</th>\n",
       "      <td>Jayanagar PS</td>\n",
       "      <td>2015</td>\n",
       "      <td>Chain Snatching</td>\n",
       "      <td>2015-02-03 00:00:00</td>\n",
       "      <td>15:40:00</td>\n",
       "      <td>INFRONT OF NO.147, 36th A. CROSS, 7th MAIN, 5t...</td>\n",
       "      <td>12.92043</td>\n",
       "      <td>77.5819</td>\n",
       "    </tr>\n",
       "    <tr>\n",
       "      <th>1</th>\n",
       "      <td>Jayanagar PS</td>\n",
       "      <td>2015</td>\n",
       "      <td>Chain Snatching</td>\n",
       "      <td>13/03/2015</td>\n",
       "      <td>17:30:00</td>\n",
       "      <td>INFRONT OF HOUSE NO: 34/9, 38TH A CROSS, 8TH B...</td>\n",
       "      <td>12.921652</td>\n",
       "      <td>77.57928</td>\n",
       "    </tr>\n",
       "    <tr>\n",
       "      <th>2</th>\n",
       "      <td>Jayanagar PS</td>\n",
       "      <td>2015</td>\n",
       "      <td>Chain Snatching</td>\n",
       "      <td>31/03/2015</td>\n",
       "      <td>20:15:00</td>\n",
       "      <td>INFRONT OF HOUSE NO: 458, 39TH B CROSS, 10TH M...</td>\n",
       "      <td>12.920838</td>\n",
       "      <td>77.58481</td>\n",
       "    </tr>\n",
       "    <tr>\n",
       "      <th>3</th>\n",
       "      <td>Jayanagar PS</td>\n",
       "      <td>2015</td>\n",
       "      <td>Chain Snatching</td>\n",
       "      <td>2015-01-04 00:00:00</td>\n",
       "      <td>19:45:00</td>\n",
       "      <td>INFRONT OF BANASHANKARI, TEXTILES, 42ND CROSS,...</td>\n",
       "      <td>12.918973</td>\n",
       "      <td>77.57598</td>\n",
       "    </tr>\n",
       "    <tr>\n",
       "      <th>4</th>\n",
       "      <td>Jayanagar PS</td>\n",
       "      <td>2015</td>\n",
       "      <td>Chain Snatching</td>\n",
       "      <td>2015-08-05 00:00:00</td>\n",
       "      <td>11:30:00</td>\n",
       "      <td>NEAR HANDLOOM WORLD, 10th B MAIN, JAYANAGAR 3r...</td>\n",
       "      <td>12.932486</td>\n",
       "      <td>77.58962</td>\n",
       "    </tr>\n",
       "  </tbody>\n",
       "</table>\n",
       "</div>"
      ],
      "text/plain": [
       "    Police Stion  Year            Type                  Date      Time  \\\n",
       "0  Jayanagar PS   2015  Chain Snatching  2015-02-03 00:00:00  15:40:00   \n",
       "1  Jayanagar PS   2015  Chain Snatching           13/03/2015  17:30:00   \n",
       "2  Jayanagar PS   2015  Chain Snatching           31/03/2015  20:15:00   \n",
       "3  Jayanagar PS   2015  Chain Snatching  2015-01-04 00:00:00  19:45:00   \n",
       "4  Jayanagar PS   2015  Chain Snatching  2015-08-05 00:00:00  11:30:00   \n",
       "\n",
       "                                 Place of Occurrence  Lattitude Longitude  \n",
       "0  INFRONT OF NO.147, 36th A. CROSS, 7th MAIN, 5t...   12.92043   77.5819  \n",
       "1  INFRONT OF HOUSE NO: 34/9, 38TH A CROSS, 8TH B...  12.921652  77.57928  \n",
       "2  INFRONT OF HOUSE NO: 458, 39TH B CROSS, 10TH M...  12.920838  77.58481  \n",
       "3  INFRONT OF BANASHANKARI, TEXTILES, 42ND CROSS,...  12.918973  77.57598  \n",
       "4  NEAR HANDLOOM WORLD, 10th B MAIN, JAYANAGAR 3r...  12.932486  77.58962  "
      ]
     },
     "execution_count": 128,
     "metadata": {},
     "output_type": "execute_result"
    }
   ],
   "source": [
    "chain_snatching_db.head()"
   ]
  },
  {
   "cell_type": "code",
   "execution_count": 129,
   "id": "8e2b44cf-3918-4490-b262-25087beae3a7",
   "metadata": {},
   "outputs": [
    {
     "data": {
      "text/plain": [
       "array(['Jayanagar PS ', 'Basavanagudi', 'J P NAGAR ', 'Banashankari',\n",
       "       'Siddapura ', 'Subramanyapura ', 'Thalaghtapura ',\n",
       "       'KONANAKUNTE PS', 'Puttenahalli ', 'KS LAYOUT', 'GIRINAGAR PS',\n",
       "       'k g nagar', 'Shankarapura', 'VV Puram', 'H NAGAR PS',\n",
       "       'C.K. Achuktu'], dtype=object)"
      ]
     },
     "execution_count": 129,
     "metadata": {},
     "output_type": "execute_result"
    }
   ],
   "source": [
    "chain_snatching_db['Police Stion'].unique()"
   ]
  },
  {
   "cell_type": "code",
   "execution_count": 130,
   "id": "1faf0fb8-a5ba-4ced-9dc0-bb6568be0002",
   "metadata": {},
   "outputs": [],
   "source": [
    "chain_snatching_db['Police Stion'].replace(to_replace = 'Jayanagar PS ', value = 'Jayanagar', inplace = True)\n",
    "chain_snatching_db['Police Stion'].replace(to_replace = 'Basavanagudi', value = 'Basavanagudi', inplace = True)\n",
    "chain_snatching_db['Police Stion'].replace(to_replace = 'J P NAGAR ', value = 'J P Nagar', inplace = True)\n",
    "chain_snatching_db['Police Stion'].replace(to_replace = 'Banashankari', value = 'Banashankari', inplace = True)\n",
    "chain_snatching_db['Police Stion'].replace(to_replace = 'Siddapura ', value = 'Siddapura', inplace = True)\n",
    "chain_snatching_db['Police Stion'].replace(to_replace = 'Subramanyapura ', value = 'Subramanyapura', inplace = True)\n",
    "chain_snatching_db['Police Stion'].replace(to_replace = 'Thalaghtapura ', value = 'Thalaghtapura', inplace = True)\n",
    "chain_snatching_db['Police Stion'].replace(to_replace = 'KONANAKUNTE PS', value = 'Konanakunte', inplace = True)\n",
    "chain_snatching_db['Police Stion'].replace(to_replace = 'Puttenahalli ', value = 'Puttenahalli', inplace = True)\n",
    "chain_snatching_db['Police Stion'].replace(to_replace = 'KS LAYOUT', value = 'K S Layout', inplace = True)\n",
    "chain_snatching_db['Police Stion'].replace(to_replace = 'GIRINAGAR PS', value = 'Girinagar', inplace = True)\n",
    "chain_snatching_db['Police Stion'].replace(to_replace = 'k g nagar', value = 'K G Nagar', inplace = True)\n",
    "chain_snatching_db['Police Stion'].replace(to_replace = 'Shankarapura', value = 'Shankarapura', inplace = True)\n",
    "chain_snatching_db['Police Stion'].replace(to_replace = 'VV Puram', value = 'V V Puram', inplace = True)\n",
    "chain_snatching_db['Police Stion'].replace(to_replace = 'H NAGAR PS', value = 'H Nagar', inplace = True)\n",
    "chain_snatching_db['Police Stion'].replace(to_replace = 'C.K. Achuktu', value = 'C K Acchuktu', inplace = True)"
   ]
  },
  {
   "cell_type": "code",
   "execution_count": 132,
   "id": "a1886d43-2d17-4bc1-9a16-dc14517d9750",
   "metadata": {},
   "outputs": [],
   "source": [
    "chain_snatching_db['Police Stion'].unique()\n",
    "chain_snatching_db.to_excel('Cleaned_Data/chain_snatching.xlsx')"
   ]
  },
  {
   "cell_type": "code",
   "execution_count": 127,
   "id": "485b4fa3-3b6c-4bf7-84e3-da9048036a81",
   "metadata": {},
   "outputs": [],
   "source": [
    "robbery_db['Police Stion'].unique()\n",
    "robbery_db.to_excel('Cleaned_Data/robbery.xlsx')"
   ]
  },
  {
   "cell_type": "code",
   "execution_count": 122,
   "id": "ece74036-4b15-4aa1-8d95-07c153142f52",
   "metadata": {},
   "outputs": [],
   "source": [
    "kidnap_db['Police Station'].unique()\n",
    "kidnap_db.to_excel('Cleaned_Data/kidnapping.xlsx')"
   ]
  },
  {
   "cell_type": "code",
   "execution_count": 117,
   "id": "bf6a5eda-6c49-4176-9d60-b282f55f20f9",
   "metadata": {},
   "outputs": [],
   "source": [
    "hurt_db['Police Station'].unique()\n",
    "hurt_db.to_excel('Cleaned_Data/hurt.xlsx')"
   ]
  },
  {
   "cell_type": "code",
   "execution_count": 112,
   "id": "c7fb12a2-f259-40a4-857f-3a64d5eddd60",
   "metadata": {},
   "outputs": [],
   "source": [
    "sexual_assault_db['Police Station'].unique()\n",
    "sexual_assault_db.to_excel('Cleaned_Data/sexual_assault.xlsx')"
   ]
  },
  {
   "cell_type": "code",
   "execution_count": 110,
   "id": "bf12f4ec-812b-42de-9eaa-4318c559e434",
   "metadata": {},
   "outputs": [
    {
     "data": {
      "text/plain": [
       "array(['Jayanagar', 'Basavanagudi', 'J P Nagar', 'Banashankari',\n",
       "       'Siddapura', 'Subramanyapura', 'Thalaghtapura', 'Konanakunte',\n",
       "       'Puttenahalli', 'K S Layout', 'Girinagar', 'K G Nagar',\n",
       "       'Shankarapura', 'V V Puram', 'H Nagar', 'C K Acchuktu'],\n",
       "      dtype=object)"
      ]
     },
     "execution_count": 110,
     "metadata": {},
     "output_type": "execute_result"
    }
   ],
   "source": [
    "attempt_murder_db['Police Stion'].unique()\n"
   ]
  },
  {
   "cell_type": "code",
   "execution_count": 94,
   "id": "a8628d0a-1ff1-4acc-b23e-9655904a45f4",
   "metadata": {},
   "outputs": [
    {
     "data": {
      "text/plain": [
       "array(['Jayanagar', 'Basavanagudi', 'J P Nagar', 'Banashankari',\n",
       "       'Siddapura', 'Subramanyapura', 'Thalaghtapura', 'Konanakunte',\n",
       "       'Puttenahalli', 'K S Layout', 'Ramakrishnanagar', 'Chandranagar',\n",
       "       'Bendrenagar', 'Kashinagar', 'Yelachenahalli', 'Praghipura',\n",
       "       'Kadirenahalli', 'Uttarahalli', 'Iliyasnagar', 'Girinagar',\n",
       "       'K G Nagar', 'V V Puram', 'H Nagar', 'C K Acchuktu'], dtype=object)"
      ]
     },
     "execution_count": 94,
     "metadata": {},
     "output_type": "execute_result"
    }
   ],
   "source": [
    "murder_db['Police Stion'].unique()\n"
   ]
  },
  {
   "cell_type": "code",
   "execution_count": 95,
   "id": "67ebcd2e-0f9c-4c5c-929f-27e67ef5ce86",
   "metadata": {},
   "outputs": [
    {
     "data": {
      "text/plain": [
       "array(['Jayanagar', 'Basavanagudi', 'J P Nagar', 'Banashankari',\n",
       "       'Siddapura', 'Subramanyapura', 'Thalaghtapura', 'Konanakunte',\n",
       "       'Puttenahalli', 'K S Layout', 'Girinagar', 'K G Nagar',\n",
       "       'Shankarapura', 'V V Puram', 'H Nagar', 'C K Acchuktu'],\n",
       "      dtype=object)"
      ]
     },
     "execution_count": 95,
     "metadata": {},
     "output_type": "execute_result"
    }
   ],
   "source": [
    "two_wheeler_db['Police Stion'].unique()\n"
   ]
  },
  {
   "cell_type": "code",
   "execution_count": 96,
   "id": "85e0e259-a87b-4d7d-a073-d09d370fda3f",
   "metadata": {},
   "outputs": [
    {
     "data": {
      "text/plain": [
       "array(['Jayanagar', 'Basavanagudi', 'J P Nagar', 'Banashankari',\n",
       "       'Siddapura', 'Subramanyapura', 'Thalaghtapura', 'Konanakunte',\n",
       "       'Puttenahalli', 'K S Layout', 'Girinagar', 'K G Nagar',\n",
       "       'Shankarapura', 'V V Puram', 'H Nagar', 'C K Acchuktu'],\n",
       "      dtype=object)"
      ]
     },
     "execution_count": 96,
     "metadata": {},
     "output_type": "execute_result"
    }
   ],
   "source": [
    "four_wheeler_db['Police Station'].unique()\n"
   ]
  },
  {
   "cell_type": "markdown",
   "id": "bbac5898-195a-45bc-80b7-af18956e11d2",
   "metadata": {},
   "source": [
    "## Adding the Cleaned Data"
   ]
  },
  {
   "cell_type": "code",
   "execution_count": 91,
   "id": "5046cf52-1c71-4fcd-9890-2e61340b63a1",
   "metadata": {},
   "outputs": [],
   "source": [
    "murder_db = pd.read_excel('Cleaned_Data/murder.xlsx')\n",
    "two_wheeler_db = pd.read_excel('Cleaned_Data/two_wheeler_theft.xlsx')\n",
    "four_wheeler_db = pd.read_excel('Cleaned_Data/four_wheeler_theft.xlsx')\n",
    "attempt_murder_db = pd.read_excel('Cleaned_Data/attempt_murder.xlsx')"
   ]
  },
  {
   "cell_type": "code",
   "execution_count": null,
   "id": "8f9ca5b6-a750-48a2-9858-799f2e4e810c",
   "metadata": {},
   "outputs": [],
   "source": [
    "four_wheeler_db.to_excel('data_formatted/four_wheeler_theft.xlsx')"
   ]
  },
  {
   "cell_type": "markdown",
   "id": "164e275e-20cf-4b1c-834c-287a4512833a",
   "metadata": {},
   "source": [
    "## Loding in the Cleaned Data for Further Cleaning"
   ]
  },
  {
   "cell_type": "code",
   "execution_count": 203,
   "id": "5f24dd15-e35e-4f98-91ca-43d5324e2d48",
   "metadata": {},
   "outputs": [],
   "source": [
    "#murder_db = pd.read_excel('Cleaned_Data/murder.xlsx')\n",
    "#two_wheeler_db = pd.read_excel('Cleaned_Data/two_wheeler_theft.xlsx')\n",
    "#four_wheeler_db = pd.read_excel('Cleaned_Data/four_wheeler_theft.xlsx')\n",
    "attempt_murder_db = pd.read_excel('Cleaned_Data/attempt_murder.xlsx')\n",
    "#sexual_assault_db = pd.read_excel('Cleaned_Data/sexual_assault.xlsx')\n",
    "#hurt_db = pd.read_excel('Cleaned_Data/hurt.xlsx')\n",
    "#kidnap_db = pd.read_excel('Cleaned_Data/kidnapping.xlsx')\n",
    "#robbery_db = pd.read_excel('Cleaned_Data/robbery.xlsx')\n",
    "#chain_snatching_db = pd.read_excel('Cleaned_Data/chain_snatching.xlsx')"
   ]
  },
  {
   "cell_type": "code",
   "execution_count": 166,
   "id": "c9c1548c-b15f-4d12-b6fd-aa3d9a0f483c",
   "metadata": {},
   "outputs": [
    {
     "name": "stdout",
     "output_type": "stream",
     "text": [
      "<class 'pandas.core.frame.DataFrame'>\n",
      "RangeIndex: 135 entries, 0 to 134\n",
      "Data columns (total 8 columns):\n",
      " #   Column               Non-Null Count  Dtype \n",
      "---  ------               --------------  ----- \n",
      " 0   Police_Station       135 non-null    object\n",
      " 1   Year                 135 non-null    int64 \n",
      " 2   Type                 135 non-null    object\n",
      " 3   Date                 135 non-null    object\n",
      " 4   Time                 123 non-null    object\n",
      " 5   Place of Occurrence  135 non-null    object\n",
      " 6   Latitude             135 non-null    object\n",
      " 7   Longitude            135 non-null    object\n",
      "dtypes: int64(1), object(7)\n",
      "memory usage: 8.6+ KB\n"
     ]
    }
   ],
   "source": [
    "murder_db.info()"
   ]
  },
  {
   "cell_type": "code",
   "execution_count": 192,
   "id": "368e67a2-cfd3-4ffa-a625-2990114423d9",
   "metadata": {},
   "outputs": [
    {
     "name": "stdout",
     "output_type": "stream",
     "text": [
      "<class 'pandas.core.frame.DataFrame'>\n",
      "RangeIndex: 3994 entries, 0 to 3993\n",
      "Data columns (total 9 columns):\n",
      " #   Column               Non-Null Count  Dtype  \n",
      "---  ------               --------------  -----  \n",
      " 0   Unnamed: 0           3994 non-null   int64  \n",
      " 1   Police Stion         3994 non-null   object \n",
      " 2   Year                 3992 non-null   float64\n",
      " 3   Type                 3994 non-null   object \n",
      " 4   Date                 3986 non-null   object \n",
      " 5   Time                 3448 non-null   object \n",
      " 6   Place of Occurrence  3993 non-null   object \n",
      " 7   Lattitude            3962 non-null   object \n",
      " 8   Longitude            3970 non-null   object \n",
      "dtypes: float64(1), int64(1), object(7)\n",
      "memory usage: 281.0+ KB\n"
     ]
    }
   ],
   "source": [
    "two_wheeler_db.info()"
   ]
  },
  {
   "cell_type": "code",
   "execution_count": 170,
   "id": "ac8e0375-49f0-4012-9217-a5b8e09dfcc6",
   "metadata": {},
   "outputs": [
    {
     "name": "stdout",
     "output_type": "stream",
     "text": [
      "<class 'pandas.core.frame.DataFrame'>\n",
      "RangeIndex: 216 entries, 0 to 215\n",
      "Data columns (total 8 columns):\n",
      " #   Column               Non-Null Count  Dtype  \n",
      "---  ------               --------------  -----  \n",
      " 0   Police_Station       216 non-null    object \n",
      " 1   Year                 209 non-null    float64\n",
      " 2   Type                 216 non-null    object \n",
      " 3   Date                 216 non-null    object \n",
      " 4   Time                 190 non-null    object \n",
      " 5   Place of Occurrence  216 non-null    object \n",
      " 6   Latitude             208 non-null    object \n",
      " 7   Longitude            208 non-null    object \n",
      "dtypes: float64(1), object(7)\n",
      "memory usage: 13.6+ KB\n"
     ]
    }
   ],
   "source": [
    "four_wheeler_db.info()"
   ]
  },
  {
   "cell_type": "code",
   "execution_count": 204,
   "id": "14c10f6c-4e1c-41b5-8a11-5eefc26456a5",
   "metadata": {},
   "outputs": [
    {
     "name": "stdout",
     "output_type": "stream",
     "text": [
      "<class 'pandas.core.frame.DataFrame'>\n",
      "RangeIndex: 326 entries, 0 to 325\n",
      "Data columns (total 6 columns):\n",
      " #   Column          Non-Null Count  Dtype         \n",
      "---  ------          --------------  -----         \n",
      " 0   Police_Station  326 non-null    object        \n",
      " 1   Year            326 non-null    int64         \n",
      " 2   Type            326 non-null    object        \n",
      " 3   Date            326 non-null    datetime64[ns]\n",
      " 4   Time            326 non-null    object        \n",
      " 5   Unnamed: 5      0 non-null      float64       \n",
      "dtypes: datetime64[ns](1), float64(1), int64(1), object(3)\n",
      "memory usage: 15.4+ KB\n"
     ]
    }
   ],
   "source": [
    "attempt_murder_db.info()"
   ]
  },
  {
   "cell_type": "code",
   "execution_count": 174,
   "id": "88cbff00-1899-4fcd-9cd0-88aab1834b47",
   "metadata": {},
   "outputs": [
    {
     "name": "stdout",
     "output_type": "stream",
     "text": [
      "<class 'pandas.core.frame.DataFrame'>\n",
      "RangeIndex: 76 entries, 0 to 75\n",
      "Data columns (total 8 columns):\n",
      " #   Column               Non-Null Count  Dtype \n",
      "---  ------               --------------  ----- \n",
      " 0   Police_Station       76 non-null     object\n",
      " 1   Year                 76 non-null     int64 \n",
      " 2   Type                 76 non-null     object\n",
      " 3   Date                 76 non-null     object\n",
      " 4   Time                 70 non-null     object\n",
      " 5   Place of Occurrence  76 non-null     object\n",
      " 6   Latitude             69 non-null     object\n",
      " 7   Longitude            70 non-null     object\n",
      "dtypes: int64(1), object(7)\n",
      "memory usage: 4.9+ KB\n"
     ]
    }
   ],
   "source": [
    "sexual_assault_db.info()"
   ]
  },
  {
   "cell_type": "code",
   "execution_count": 176,
   "id": "6ce6367e-a8bf-43e2-b9ad-8a55f87f6286",
   "metadata": {},
   "outputs": [
    {
     "name": "stdout",
     "output_type": "stream",
     "text": [
      "<class 'pandas.core.frame.DataFrame'>\n",
      "RangeIndex: 1877 entries, 0 to 1876\n",
      "Data columns (total 8 columns):\n",
      " #   Column               Non-Null Count  Dtype \n",
      "---  ------               --------------  ----- \n",
      " 0   Police_Station       1877 non-null   object\n",
      " 1   Year                 1877 non-null   int64 \n",
      " 2   Type                 1877 non-null   object\n",
      " 3   Date                 1874 non-null   object\n",
      " 4   Time                 1634 non-null   object\n",
      " 5   Place of Occurrence  1876 non-null   object\n",
      " 6   Latitude             1794 non-null   object\n",
      " 7   Longitude            1798 non-null   object\n",
      "dtypes: int64(1), object(7)\n",
      "memory usage: 117.4+ KB\n"
     ]
    }
   ],
   "source": [
    "hurt_db.info()"
   ]
  },
  {
   "cell_type": "code",
   "execution_count": 178,
   "id": "2ffc996c-3e38-49f0-82e7-671a20a92188",
   "metadata": {},
   "outputs": [
    {
     "name": "stdout",
     "output_type": "stream",
     "text": [
      "<class 'pandas.core.frame.DataFrame'>\n",
      "RangeIndex: 575 entries, 0 to 574\n",
      "Data columns (total 8 columns):\n",
      " #   Column               Non-Null Count  Dtype \n",
      "---  ------               --------------  ----- \n",
      " 0   Police_Station       574 non-null    object\n",
      " 1   Year                 575 non-null    int64 \n",
      " 2   Type                 575 non-null    object\n",
      " 3   Date                 574 non-null    object\n",
      " 4   Time                 515 non-null    object\n",
      " 5   Place of Occurrence  575 non-null    object\n",
      " 6   Latitude             551 non-null    object\n",
      " 7   Longitude            551 non-null    object\n",
      "dtypes: int64(1), object(7)\n",
      "memory usage: 36.1+ KB\n"
     ]
    }
   ],
   "source": [
    "kidnap_db.info()"
   ]
  },
  {
   "cell_type": "code",
   "execution_count": 180,
   "id": "33be932a-bebf-4b3a-b380-614e8d1c2530",
   "metadata": {},
   "outputs": [
    {
     "name": "stdout",
     "output_type": "stream",
     "text": [
      "<class 'pandas.core.frame.DataFrame'>\n",
      "RangeIndex: 399 entries, 0 to 398\n",
      "Data columns (total 8 columns):\n",
      " #   Column               Non-Null Count  Dtype  \n",
      "---  ------               --------------  -----  \n",
      " 0   Police_Station       399 non-null    object \n",
      " 1   Year                 398 non-null    float64\n",
      " 2   Type                 399 non-null    object \n",
      " 3   Date                 399 non-null    object \n",
      " 4   Time                 365 non-null    object \n",
      " 5   Place of Occurrence  399 non-null    object \n",
      " 6   Lattitude            397 non-null    object \n",
      " 7   Longitutde           398 non-null    object \n",
      "dtypes: float64(1), object(7)\n",
      "memory usage: 25.1+ KB\n"
     ]
    }
   ],
   "source": [
    "robbery_db.info()"
   ]
  },
  {
   "cell_type": "code",
   "execution_count": 182,
   "id": "cd4024cd-ceec-445f-af58-66f3f66e3b8b",
   "metadata": {},
   "outputs": [
    {
     "name": "stdout",
     "output_type": "stream",
     "text": [
      "<class 'pandas.core.frame.DataFrame'>\n",
      "RangeIndex: 360 entries, 0 to 359\n",
      "Data columns (total 8 columns):\n",
      " #   Column               Non-Null Count  Dtype \n",
      "---  ------               --------------  ----- \n",
      " 0   Police_Station       360 non-null    object\n",
      " 1   Year                 360 non-null    int64 \n",
      " 2   Type                 360 non-null    object\n",
      " 3   Date                 360 non-null    object\n",
      " 4   Time                 336 non-null    object\n",
      " 5   Place of Occurrence  360 non-null    object\n",
      " 6   Lattitude            360 non-null    object\n",
      " 7   Longitude            360 non-null    object\n",
      "dtypes: int64(1), object(7)\n",
      "memory usage: 22.6+ KB\n"
     ]
    }
   ],
   "source": [
    "chain_snatching_db.info()"
   ]
  },
  {
   "cell_type": "code",
   "execution_count": 193,
   "id": "51a75473-ead4-4f09-8da0-9195693eb0b0",
   "metadata": {},
   "outputs": [],
   "source": [
    "#murder_db.drop('Unnamed: 0', axis = 1, inplace = True)\n",
    "#two_wheeler_db.drop('Unnamed: 0', axis = 1, inplace = True)\n",
    "#four_wheeler_db.drop('Unnamed: 0', axis = 1, inplace = True)\n",
    "#hurt_db.drop('Unnamed: 0', axis = 1, inplace = True)\n",
    "#kidnap_db.drop('Unnamed: 0', axis = 1, inplace = True)\n",
    "#robbery_db.drop('Unnamed: 0', axis = 1, inplace = True)\n",
    "#attempt_murder_db.drop('Unnamed: 0', axis = 1, inplace = True)\n",
    "#sexual_assault_db.drop('Unnamed: 0', axis = 1, inplace = True)\n",
    "#chain_snatching_db.drop('Unnamed: 0', axis = 1, inplace = True)"
   ]
  },
  {
   "cell_type": "code",
   "execution_count": 194,
   "id": "8f914503-0ff2-4b37-8ea9-84de5cafc47f",
   "metadata": {},
   "outputs": [],
   "source": [
    "\n",
    "two_wheeler_db.rename(columns = {'Police Stion' : 'Police_Station'}, inplace = True)"
   ]
  },
  {
   "cell_type": "code",
   "execution_count": 177,
   "id": "79ceca96-96ba-406c-ac3f-e222d82dfa54",
   "metadata": {},
   "outputs": [],
   "source": [
    "kidnap_db.rename(columns = {'Police Station' : 'Police_Station', 'Report Date' : 'Date'}, inplace = True)"
   ]
  },
  {
   "cell_type": "code",
   "execution_count": 198,
   "id": "4c2cb4cb-0d75-49bf-8e90-323ae50bf696",
   "metadata": {},
   "outputs": [
    {
     "ename": "ValueError",
     "evalue": "Cannot convert non-finite values (NA or inf) to integer",
     "output_type": "error",
     "traceback": [
      "\u001b[1;31m---------------------------------------------------------------------------\u001b[0m",
      "\u001b[1;31mValueError\u001b[0m                                Traceback (most recent call last)",
      "\u001b[1;32m<ipython-input-198-cbeb33ecf8c9>\u001b[0m in \u001b[0;36m<module>\u001b[1;34m\u001b[0m\n\u001b[1;32m----> 1\u001b[1;33m \u001b[0mtwo_wheeler_db\u001b[0m\u001b[1;33m[\u001b[0m\u001b[1;34m'Year'\u001b[0m\u001b[1;33m]\u001b[0m\u001b[1;33m.\u001b[0m\u001b[0mastype\u001b[0m\u001b[1;33m(\u001b[0m\u001b[1;34m'int64'\u001b[0m\u001b[1;33m)\u001b[0m\u001b[1;33m\u001b[0m\u001b[1;33m\u001b[0m\u001b[0m\n\u001b[0m",
      "\u001b[1;32m~\\anaconda3\\lib\\site-packages\\pandas\\core\\generic.py\u001b[0m in \u001b[0;36mastype\u001b[1;34m(self, dtype, copy, errors)\u001b[0m\n\u001b[0;32m   5875\u001b[0m         \u001b[1;32melse\u001b[0m\u001b[1;33m:\u001b[0m\u001b[1;33m\u001b[0m\u001b[1;33m\u001b[0m\u001b[0m\n\u001b[0;32m   5876\u001b[0m             \u001b[1;31m# else, only a single dtype is given\u001b[0m\u001b[1;33m\u001b[0m\u001b[1;33m\u001b[0m\u001b[1;33m\u001b[0m\u001b[0m\n\u001b[1;32m-> 5877\u001b[1;33m             \u001b[0mnew_data\u001b[0m \u001b[1;33m=\u001b[0m \u001b[0mself\u001b[0m\u001b[1;33m.\u001b[0m\u001b[0m_mgr\u001b[0m\u001b[1;33m.\u001b[0m\u001b[0mastype\u001b[0m\u001b[1;33m(\u001b[0m\u001b[0mdtype\u001b[0m\u001b[1;33m=\u001b[0m\u001b[0mdtype\u001b[0m\u001b[1;33m,\u001b[0m \u001b[0mcopy\u001b[0m\u001b[1;33m=\u001b[0m\u001b[0mcopy\u001b[0m\u001b[1;33m,\u001b[0m \u001b[0merrors\u001b[0m\u001b[1;33m=\u001b[0m\u001b[0merrors\u001b[0m\u001b[1;33m)\u001b[0m\u001b[1;33m\u001b[0m\u001b[1;33m\u001b[0m\u001b[0m\n\u001b[0m\u001b[0;32m   5878\u001b[0m             \u001b[1;32mreturn\u001b[0m \u001b[0mself\u001b[0m\u001b[1;33m.\u001b[0m\u001b[0m_constructor\u001b[0m\u001b[1;33m(\u001b[0m\u001b[0mnew_data\u001b[0m\u001b[1;33m)\u001b[0m\u001b[1;33m.\u001b[0m\u001b[0m__finalize__\u001b[0m\u001b[1;33m(\u001b[0m\u001b[0mself\u001b[0m\u001b[1;33m,\u001b[0m \u001b[0mmethod\u001b[0m\u001b[1;33m=\u001b[0m\u001b[1;34m\"astype\"\u001b[0m\u001b[1;33m)\u001b[0m\u001b[1;33m\u001b[0m\u001b[1;33m\u001b[0m\u001b[0m\n\u001b[0;32m   5879\u001b[0m \u001b[1;33m\u001b[0m\u001b[0m\n",
      "\u001b[1;32m~\\anaconda3\\lib\\site-packages\\pandas\\core\\internals\\managers.py\u001b[0m in \u001b[0;36mastype\u001b[1;34m(self, dtype, copy, errors)\u001b[0m\n\u001b[0;32m    629\u001b[0m         \u001b[0mself\u001b[0m\u001b[1;33m,\u001b[0m \u001b[0mdtype\u001b[0m\u001b[1;33m,\u001b[0m \u001b[0mcopy\u001b[0m\u001b[1;33m:\u001b[0m \u001b[0mbool\u001b[0m \u001b[1;33m=\u001b[0m \u001b[1;32mFalse\u001b[0m\u001b[1;33m,\u001b[0m \u001b[0merrors\u001b[0m\u001b[1;33m:\u001b[0m \u001b[0mstr\u001b[0m \u001b[1;33m=\u001b[0m \u001b[1;34m\"raise\"\u001b[0m\u001b[1;33m\u001b[0m\u001b[1;33m\u001b[0m\u001b[0m\n\u001b[0;32m    630\u001b[0m     ) -> \"BlockManager\":\n\u001b[1;32m--> 631\u001b[1;33m         \u001b[1;32mreturn\u001b[0m \u001b[0mself\u001b[0m\u001b[1;33m.\u001b[0m\u001b[0mapply\u001b[0m\u001b[1;33m(\u001b[0m\u001b[1;34m\"astype\"\u001b[0m\u001b[1;33m,\u001b[0m \u001b[0mdtype\u001b[0m\u001b[1;33m=\u001b[0m\u001b[0mdtype\u001b[0m\u001b[1;33m,\u001b[0m \u001b[0mcopy\u001b[0m\u001b[1;33m=\u001b[0m\u001b[0mcopy\u001b[0m\u001b[1;33m,\u001b[0m \u001b[0merrors\u001b[0m\u001b[1;33m=\u001b[0m\u001b[0merrors\u001b[0m\u001b[1;33m)\u001b[0m\u001b[1;33m\u001b[0m\u001b[1;33m\u001b[0m\u001b[0m\n\u001b[0m\u001b[0;32m    632\u001b[0m \u001b[1;33m\u001b[0m\u001b[0m\n\u001b[0;32m    633\u001b[0m     def convert(\n",
      "\u001b[1;32m~\\anaconda3\\lib\\site-packages\\pandas\\core\\internals\\managers.py\u001b[0m in \u001b[0;36mapply\u001b[1;34m(self, f, align_keys, ignore_failures, **kwargs)\u001b[0m\n\u001b[0;32m    425\u001b[0m                     \u001b[0mapplied\u001b[0m \u001b[1;33m=\u001b[0m \u001b[0mb\u001b[0m\u001b[1;33m.\u001b[0m\u001b[0mapply\u001b[0m\u001b[1;33m(\u001b[0m\u001b[0mf\u001b[0m\u001b[1;33m,\u001b[0m \u001b[1;33m**\u001b[0m\u001b[0mkwargs\u001b[0m\u001b[1;33m)\u001b[0m\u001b[1;33m\u001b[0m\u001b[1;33m\u001b[0m\u001b[0m\n\u001b[0;32m    426\u001b[0m                 \u001b[1;32melse\u001b[0m\u001b[1;33m:\u001b[0m\u001b[1;33m\u001b[0m\u001b[1;33m\u001b[0m\u001b[0m\n\u001b[1;32m--> 427\u001b[1;33m                     \u001b[0mapplied\u001b[0m \u001b[1;33m=\u001b[0m \u001b[0mgetattr\u001b[0m\u001b[1;33m(\u001b[0m\u001b[0mb\u001b[0m\u001b[1;33m,\u001b[0m \u001b[0mf\u001b[0m\u001b[1;33m)\u001b[0m\u001b[1;33m(\u001b[0m\u001b[1;33m**\u001b[0m\u001b[0mkwargs\u001b[0m\u001b[1;33m)\u001b[0m\u001b[1;33m\u001b[0m\u001b[1;33m\u001b[0m\u001b[0m\n\u001b[0m\u001b[0;32m    428\u001b[0m             \u001b[1;32mexcept\u001b[0m \u001b[1;33m(\u001b[0m\u001b[0mTypeError\u001b[0m\u001b[1;33m,\u001b[0m \u001b[0mNotImplementedError\u001b[0m\u001b[1;33m)\u001b[0m\u001b[1;33m:\u001b[0m\u001b[1;33m\u001b[0m\u001b[1;33m\u001b[0m\u001b[0m\n\u001b[0;32m    429\u001b[0m                 \u001b[1;32mif\u001b[0m \u001b[1;32mnot\u001b[0m \u001b[0mignore_failures\u001b[0m\u001b[1;33m:\u001b[0m\u001b[1;33m\u001b[0m\u001b[1;33m\u001b[0m\u001b[0m\n",
      "\u001b[1;32m~\\anaconda3\\lib\\site-packages\\pandas\\core\\internals\\blocks.py\u001b[0m in \u001b[0;36mastype\u001b[1;34m(self, dtype, copy, errors)\u001b[0m\n\u001b[0;32m    671\u001b[0m             \u001b[0mvals1d\u001b[0m \u001b[1;33m=\u001b[0m \u001b[0mvalues\u001b[0m\u001b[1;33m.\u001b[0m\u001b[0mravel\u001b[0m\u001b[1;33m(\u001b[0m\u001b[1;33m)\u001b[0m\u001b[1;33m\u001b[0m\u001b[1;33m\u001b[0m\u001b[0m\n\u001b[0;32m    672\u001b[0m             \u001b[1;32mtry\u001b[0m\u001b[1;33m:\u001b[0m\u001b[1;33m\u001b[0m\u001b[1;33m\u001b[0m\u001b[0m\n\u001b[1;32m--> 673\u001b[1;33m                 \u001b[0mvalues\u001b[0m \u001b[1;33m=\u001b[0m \u001b[0mastype_nansafe\u001b[0m\u001b[1;33m(\u001b[0m\u001b[0mvals1d\u001b[0m\u001b[1;33m,\u001b[0m \u001b[0mdtype\u001b[0m\u001b[1;33m,\u001b[0m \u001b[0mcopy\u001b[0m\u001b[1;33m=\u001b[0m\u001b[1;32mTrue\u001b[0m\u001b[1;33m)\u001b[0m\u001b[1;33m\u001b[0m\u001b[1;33m\u001b[0m\u001b[0m\n\u001b[0m\u001b[0;32m    674\u001b[0m             \u001b[1;32mexcept\u001b[0m \u001b[1;33m(\u001b[0m\u001b[0mValueError\u001b[0m\u001b[1;33m,\u001b[0m \u001b[0mTypeError\u001b[0m\u001b[1;33m)\u001b[0m\u001b[1;33m:\u001b[0m\u001b[1;33m\u001b[0m\u001b[1;33m\u001b[0m\u001b[0m\n\u001b[0;32m    675\u001b[0m                 \u001b[1;31m# e.g. astype_nansafe can fail on object-dtype of strings\u001b[0m\u001b[1;33m\u001b[0m\u001b[1;33m\u001b[0m\u001b[1;33m\u001b[0m\u001b[0m\n",
      "\u001b[1;32m~\\anaconda3\\lib\\site-packages\\pandas\\core\\dtypes\\cast.py\u001b[0m in \u001b[0;36mastype_nansafe\u001b[1;34m(arr, dtype, copy, skipna)\u001b[0m\n\u001b[0;32m   1066\u001b[0m \u001b[1;33m\u001b[0m\u001b[0m\n\u001b[0;32m   1067\u001b[0m         \u001b[1;32mif\u001b[0m \u001b[1;32mnot\u001b[0m \u001b[0mnp\u001b[0m\u001b[1;33m.\u001b[0m\u001b[0misfinite\u001b[0m\u001b[1;33m(\u001b[0m\u001b[0marr\u001b[0m\u001b[1;33m)\u001b[0m\u001b[1;33m.\u001b[0m\u001b[0mall\u001b[0m\u001b[1;33m(\u001b[0m\u001b[1;33m)\u001b[0m\u001b[1;33m:\u001b[0m\u001b[1;33m\u001b[0m\u001b[1;33m\u001b[0m\u001b[0m\n\u001b[1;32m-> 1068\u001b[1;33m             \u001b[1;32mraise\u001b[0m \u001b[0mValueError\u001b[0m\u001b[1;33m(\u001b[0m\u001b[1;34m\"Cannot convert non-finite values (NA or inf) to integer\"\u001b[0m\u001b[1;33m)\u001b[0m\u001b[1;33m\u001b[0m\u001b[1;33m\u001b[0m\u001b[0m\n\u001b[0m\u001b[0;32m   1069\u001b[0m \u001b[1;33m\u001b[0m\u001b[0m\n\u001b[0;32m   1070\u001b[0m     \u001b[1;32melif\u001b[0m \u001b[0mis_object_dtype\u001b[0m\u001b[1;33m(\u001b[0m\u001b[0marr\u001b[0m\u001b[1;33m)\u001b[0m\u001b[1;33m:\u001b[0m\u001b[1;33m\u001b[0m\u001b[1;33m\u001b[0m\u001b[0m\n",
      "\u001b[1;31mValueError\u001b[0m: Cannot convert non-finite values (NA or inf) to integer"
     ]
    }
   ],
   "source": [
    "two_wheeler_db['Year'].astype('int64')"
   ]
  },
  {
   "cell_type": "code",
   "execution_count": 199,
   "id": "61be510c-df4d-4c3b-bb76-f31b251b6035",
   "metadata": {},
   "outputs": [
    {
     "data": {
      "text/plain": [
       "0       False\n",
       "1       False\n",
       "2       False\n",
       "3       False\n",
       "4       False\n",
       "        ...  \n",
       "3989    False\n",
       "3990    False\n",
       "3991    False\n",
       "3992    False\n",
       "3993    False\n",
       "Name: Year, Length: 3994, dtype: bool"
      ]
     },
     "execution_count": 199,
     "metadata": {},
     "output_type": "execute_result"
    }
   ],
   "source": [
    "two_wheeler_db['Year'].isnull()"
   ]
  },
  {
   "cell_type": "code",
   "execution_count": 205,
   "id": "9265c782-8ee0-4182-8dd5-57899ebf4ff7",
   "metadata": {},
   "outputs": [
    {
     "data": {
      "text/plain": [
       "0     2016-10-02\n",
       "1     2016-09-11\n",
       "2     2017-12-06\n",
       "3     2018-02-12\n",
       "4     2015-01-02\n",
       "         ...    \n",
       "321   2018-04-19\n",
       "322   2018-09-23\n",
       "323   2019-01-02\n",
       "324   2019-09-15\n",
       "325   2019-12-15\n",
       "Name: Date, Length: 326, dtype: datetime64[ns]"
      ]
     },
     "execution_count": 205,
     "metadata": {},
     "output_type": "execute_result"
    }
   ],
   "source": [
    "attempt_murder_db['Date']"
   ]
  },
  {
   "cell_type": "code",
   "execution_count": null,
   "id": "c9f4aef1-f95a-4b2e-a5d2-078d9bfb4533",
   "metadata": {},
   "outputs": [],
   "source": []
  }
 ],
 "metadata": {
  "kernelspec": {
   "display_name": "Python 3",
   "language": "python",
   "name": "python3"
  },
  "language_info": {
   "codemirror_mode": {
    "name": "ipython",
    "version": 3
   },
   "file_extension": ".py",
   "mimetype": "text/x-python",
   "name": "python",
   "nbconvert_exporter": "python",
   "pygments_lexer": "ipython3",
   "version": "3.8.8"
  }
 },
 "nbformat": 4,
 "nbformat_minor": 5
}
